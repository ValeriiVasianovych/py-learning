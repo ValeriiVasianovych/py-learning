{
 "cells": [
  {
   "cell_type": "markdown",
   "metadata": {},
   "source": [
    "## File and directory manipulation (os, sys, pathlib, shutil)"
   ]
  },
  {
   "cell_type": "markdown",
   "metadata": {},
   "source": [
    "## Pathlib Module\n",
    "\n",
    "1. Path Operations: Easily check if a path exists (exists()), determine if it's a file or directory (is_file(), is_dir()), retrieve the file name (name), parent directory (parent), and extract the file extension (suffix).\n",
    "\n",
    "2. Path Iteration: Use iterdir() to iterate over a directory's contents, making it simple to access files and subdirectories within.\n",
    "\n",
    "3. Path Creation and Deletion: Create files with touch(), directories with mkdir(), and delete files or empty directories with unlink() and rmdir(), respectively.\n",
    "\n",
    "4. Permissions and Ownership: Check and modify file permissions and ownership using methods like chmod(), owner(), and group().\n",
    "\n",
    "5. Symbolic Links: pathlib can handle symbolic links and resolve them using the resolve() method.\n",
    "\n",
    "6. Path Comparison: Compare paths using == and != operators, or use match() for more flexible matching.\n",
    "\n",
    "7. Relative Paths: pathlib makes working with relative paths, especially in the context of current and parent directories, easy with methods like relative_to() and resolve().\n",
    "\n",
    "8. File Name Manipulation: The module provides methods for working with file names, including extracting the file stem (stem), replacing the file name (with_name()), and changing the file extension (with_suffix())."
   ]
  },
  {
   "cell_type": "markdown",
   "metadata": {},
   "source": [
    "### 1. Pathlib operations\n",
    "* exists(): Check if a path exists (e.g., \"/home/user/file.txt\")\n",
    "* is_file(): Check if a path is a file (e.g., \"file.txt\")\n",
    "* is_dir(): Check if a path is a directory (folder)\n",
    "* name: Retrieve the file name from a path (e.g., \"file.txt\")\n",
    "* parent: Retrieve the parent directory of a path (e.g., \"/home/user\")\n",
    "* suffix: Retrieve the file extension from a path (e.g., \".txt\")"
   ]
  },
  {
   "cell_type": "code",
   "execution_count": null,
   "metadata": {},
   "outputs": [],
   "source": [
    "import pathlib\n",
    "\n",
    "path = '/home/username/Downloads'\n",
    "\n",
    "exist = pathlib.Path(path).exists() # True\n",
    "is_file = pathlib.Path(path).is_file() # False\n",
    "is_dir = pathlib.Path(path).is_dir() # True\n",
    "name = pathlib.Path(path).name # Downloads\n",
    "parent = pathlib.Path(path).parent # /home/username\n",
    "parent_name = pathlib.Path(path).parent.name # username\n",
    "suffix = pathlib.Path(path).suffix # '' (empty string) because it's a directory"
   ]
  },
  {
   "cell_type": "markdown",
   "metadata": {},
   "source": [
    "### 2. Path iteration\n",
    "* iterdir(): Iterate over the contents of a directory (e.g., files and subdirectories)"
   ]
  },
  {
   "cell_type": "code",
   "execution_count": null,
   "metadata": {},
   "outputs": [],
   "source": [
    "import pathlib\n",
    "\n",
    "path = '/home/user/'\n",
    "\n",
    "iteration = pathlib.Path(path).iterdir()\n",
    "for item in iteration:\n",
    "\tprint(item) # all files and directories in /home/user/"
   ]
  },
  {
   "cell_type": "markdown",
   "metadata": {},
   "source": [
    "### 3. Path creation and deletion\n",
    "* touch(): Create a file (e.g., \"file.txt\")\n",
    "* mkdir(): Create a directory (folder)\n",
    "* unlink(): Delete a file or empty directory\n",
    "* rmdir(): Delete an empty directory"
   ]
  },
  {
   "cell_type": "code",
   "execution_count": 13,
   "metadata": {},
   "outputs": [],
   "source": [
    "import pathlib\n",
    "\n",
    "path = '/home/user/Desktop'\n",
    "\n",
    "create_file = pathlib.Path(path).joinpath('file.txt').touch() # create file.txt\n",
    "create_directory = pathlib.Path(path).joinpath('directory').mkdir() # create directory\n",
    "delete = pathlib.Path(path).joinpath('file.txt').unlink() # delete file.txt\n",
    "rd_directory = pathlib.Path(path).joinpath('directory').rmdir() # delete directory"
   ]
  },
  {
   "cell_type": "markdown",
   "metadata": {},
   "source": [
    "### 4. Permissions and ownership\n",
    "* chmod(): Change permissions\n",
    "* owner(): Retrieve the owner of a file or directory\n",
    "* group(): Retrieve the group of a file or directory"
   ]
  },
  {
   "cell_type": "code",
   "execution_count": 14,
   "metadata": {},
   "outputs": [],
   "source": [
    "import pathlib\n",
    "\n",
    "path = '/home/user/Desktop/file.txt'\n",
    "\n",
    "exectu_mod = pathlib.Path(path).chmod(0o777) # change permissions to 777 (rwxrwxrwx)\n",
    "owner  = pathlib.Path(path).owner() # user\n",
    "group = pathlib.Path(path).group() # user"
   ]
  },
  {
   "cell_type": "markdown",
   "metadata": {},
   "source": [
    "### 5. Symbolic links\n",
    "* resolve(): Resolve a symbolic link (absolute path to the target)\n",
    "* is_symlink(): Check if a path is a symbolic link \n",
    "* symlink_to(): Create a symbolic link\n",
    "* readlink(): Read the target of a symbolic link"
   ]
  },
  {
   "cell_type": "code",
   "execution_count": 16,
   "metadata": {},
   "outputs": [],
   "source": [
    "import pathlib\n",
    "\n",
    "relative_path = pathlib.Path('relative/path/to/file.txt')\n",
    "\n",
    "# resolve() returns the absolute path\n",
    "absolute_path = relative_path.resolve() # /home/user/relative/path/to/file.txt\n",
    "print(absolute_path)"
   ]
  },
  {
   "cell_type": "code",
   "execution_count": null,
   "metadata": {},
   "outputs": [],
   "source": [
    "import pathlib\n",
    "\n",
    "path = pathlib.Path('/home/user/Desktop/origin.txt')\n",
    "soft_path = pathlib.Path('/home/user/Desktop/softlink.txt')\n",
    "\n",
    "path.is_symlink() # False\n",
    "soft_path.is_symlink() # True"
   ]
  },
  {
   "cell_type": "code",
   "execution_count": 30,
   "metadata": {},
   "outputs": [],
   "source": [
    "import pathlib\n",
    "\n",
    "source_path = pathlib.Path('/home/user/Desktop/origin.txt')\n",
    "symlink_path = pathlib.Path('/home/user/Desktop/softlink.txt')\n",
    "\n",
    "symlink_path.symlink_to(source_path) # create softlink.txt\n",
    "# all changes in origin.txt will be reflected in softlink.txt and vice versa."
   ]
  },
  {
   "cell_type": "code",
   "execution_count": 34,
   "metadata": {},
   "outputs": [
    {
     "name": "stdout",
     "output_type": "stream",
     "text": [
      "/home/user/Desktop/origin.txt\n"
     ]
    }
   ],
   "source": [
    "import pathlib\n",
    "\n",
    "path = '/home/user/Desktop/softlink.txt'\n",
    "\n",
    "read_link = pathlib.Path(path).readlink() # /home/user/Desktop/softlink.txt\n",
    "print(read_link) # This method returns the path to which the symbolic link points."
   ]
  },
  {
   "cell_type": "markdown",
   "metadata": {},
   "source": [
    "### Path comparison\n",
    "* ==: Check if two paths are equal\n",
    "* !=: Check if two paths are not equal\n",
    "* match(): Check if a path matches a pattern (e.g., \"*.txt\")\n",
    "* anchor: Retrieve the anchor of a path (e.g., \"/\" in \"/home/user/file.txt\")"
   ]
  },
  {
   "cell_type": "code",
   "execution_count": 35,
   "metadata": {},
   "outputs": [
    {
     "name": "stdout",
     "output_type": "stream",
     "text": [
      "Paths are not equal\n"
     ]
    }
   ],
   "source": [
    "import pathlib\n",
    "\n",
    "path_file = '/home/user/Desktop/origin.txt'\n",
    "path_dir = '/home/user/Desktop/softlink.txt'\n",
    "\n",
    "pathlib.Path(path_file).samefile(path_dir) # True\n",
    "\n",
    "if path_file == path_dir:\n",
    "\tprint('Paths are equal')\n",
    "else:\n",
    "\tprint('Paths are not equal')"
   ]
  },
  {
   "cell_type": "code",
   "execution_count": 39,
   "metadata": {},
   "outputs": [
    {
     "name": "stdout",
     "output_type": "stream",
     "text": [
      "Paths are not equal\n"
     ]
    }
   ],
   "source": [
    "import pathlib\n",
    "\n",
    "path_file = '/home/user/Desktop/origin.txt'\n",
    "path_dir = '/home/user/Desktop/softlink.txt'\n",
    "\n",
    "if pathlib.Path(path_file) != pathlib.Path(path_dir):\n",
    "\tprint('Paths are not equal')\n",
    "else:\n",
    "\tprint('Paths are equal')"
   ]
  },
  {
   "cell_type": "code",
   "execution_count": 43,
   "metadata": {},
   "outputs": [
    {
     "name": "stdout",
     "output_type": "stream",
     "text": [
      "True\n"
     ]
    }
   ],
   "source": [
    "import pathlib\n",
    "\n",
    "path = '/home/user/Desktop/origin.txt'\n",
    "\n",
    "match_path = pathlib.Path(path).match('*.txt')\n",
    "print(match_path)"
   ]
  },
  {
   "cell_type": "code",
   "execution_count": 47,
   "metadata": {},
   "outputs": [
    {
     "name": "stdout",
     "output_type": "stream",
     "text": [
      "/\n"
     ]
    }
   ],
   "source": [
    "import pathlib\n",
    "\n",
    "anchor_path = pathlib.Path('/home/user/Desktop/origin.txt')\n",
    "anchor = anchor_path.anchor # / (root)\n",
    "print(anchor) # /home/user/Desktop/origin.txt"
   ]
  },
  {
   "cell_type": "markdown",
   "metadata": {},
   "source": [
    "# Relative paths\n",
    "* relative_to(): Make a path relative to another path\n",
    "* joinpath(): Join one or more paths together\n",
    "* with_name(): Replace the file name of a path\n",
    "* with_suffix(): Replace the file extension of a path"
   ]
  },
  {
   "cell_type": "code",
   "execution_count": 48,
   "metadata": {},
   "outputs": [
    {
     "name": "stdout",
     "output_type": "stream",
     "text": [
      "/home/user/Documents/file.txt\n"
     ]
    }
   ],
   "source": [
    "# relative_to() returns the relative path to the given path\n",
    "import pathlib\n",
    "\n",
    "# Set the current directory to /home/user\n",
    "current_directory = pathlib.Path('/home/user')\n",
    "\n",
    "# Create a relative path to /home/user/Documents/file.txt\n",
    "relative_path = current_directory / 'Documents' / 'file.txt'\n",
    "print(relative_path) # /home/user/Documents/file.txt\n"
   ]
  },
  {
   "cell_type": "code",
   "execution_count": 54,
   "metadata": {},
   "outputs": [
    {
     "name": "stdout",
     "output_type": "stream",
     "text": [
      "/home/user/Documents/file.txt\n"
     ]
    }
   ],
   "source": [
    "# joinpath() joins two paths\n",
    "import pathlib\n",
    "\n",
    "path_file = '/home/user/' # / at the end is important\n",
    "path_dir = 'Documents/file.txt'\n",
    "\n",
    "joined_path = pathlib.Path(path_file).joinpath(path_dir)\n",
    "print(joined_path) # /home/user/Documents/file.txt"
   ]
  },
  {
   "cell_type": "markdown",
   "metadata": {},
   "source": [
    "## File Name Manipulation\n",
    "* stem: Retrieve the file stem of a path (e.g., \"file\" in \"file.txt\")\n",
    "* with_name(): Replace the file name of a path\n",
    "* with_suffix(): Replace the file extension of a path\n"
   ]
  },
  {
   "cell_type": "code",
   "execution_count": 72,
   "metadata": {},
   "outputs": [
    {
     "name": "stdout",
     "output_type": "stream",
     "text": [
      "file\n"
     ]
    }
   ],
   "source": [
    "# stem() returns the file name without the extension of the given path\n",
    "\n",
    "import pathlib\n",
    "\n",
    "path = '/home/user/Documents/file.txt'\n",
    "\n",
    "stem = pathlib.Path(path).stem() # file (without .txt)\n",
    "print(stem)"
   ]
  },
  {
   "cell_type": "code",
   "execution_count": 71,
   "metadata": {},
   "outputs": [
    {
     "name": "stdout",
     "output_type": "stream",
     "text": [
      "/home/user/Desktop/origin.py\n"
     ]
    }
   ],
   "source": [
    "# with_suffix() returns a new path with the suffix changed\n",
    "import pathlib\n",
    "\n",
    "original_path = pathlib.Path('/home/user/Desktop/origin.txt')\n",
    "new_suffix = '.py'\n",
    "\n",
    "new_path = original_path.with_suffix(new_suffix)\n",
    "\n",
    "print(new_path) # /home/user/Desktop/origin.py"
   ]
  },
  {
   "cell_type": "code",
   "execution_count": null,
   "metadata": {},
   "outputs": [],
   "source": [
    "# with_name() returns a new path with the name changed\n",
    "import pathlib\n",
    "\n",
    "original_path = pathlib.Path('/home/user/Desktop/origin.txt')\n",
    "new_name = 'new_origin.txt'\n",
    "\n",
    "new_path = original_path.with_name(new_name) \n",
    "\n",
    "\n",
    "print(new_path) # /home/user/Desktop/new_origin.txt"
   ]
  },
  {
   "cell_type": "markdown",
   "metadata": {},
   "source": [
    "## Tasks\n",
    "Exercise 1: Checking Path Existence and Determining Type (File or Directory)\n",
    "1. Create a `Path` object representing a path to a file or directory.\n",
    "2. Use the `exists()` method to check if the path exists.\n",
    "3. Use the `is_file()` and `is_dir()` methods to determine whether the path represents a file or a directory.\n",
    "\n",
    "Exercise 2: Iterating Over Directory Contents\n",
    "1. Create a `Path` object representing a directory path.\n",
    "2. Use the `iterdir()` method to iterate over the contents of this directory. Print the names of files and directories inside the specified directory.\n",
    "\n",
    "Exercise 3: Creating and Deleting Files and Directories\n",
    "1. Use the `mkdir()` method to create a new directory.\n",
    "2. Use the `touch()` method to create a new file.\n",
    "3. Use the `unlink()` and `rmdir()` methods to delete a file and an empty directory, respectively.\n",
    "\n",
    "Exercise 4: Working with File Permissions and Owners\n",
    "1. Create a `Path` object representing a path to a file.\n",
    "2. Use the `chmod()` method to change the file's permissions.\n",
    "3. Use the `owner()` and `group()` methods to obtain information about the file's owner and group."
   ]
  },
  {
   "cell_type": "code",
   "execution_count": 80,
   "metadata": {},
   "outputs": [
    {
     "name": "stdout",
     "output_type": "stream",
     "text": [
      "Exist\n",
      "origin.txt is a file.\n"
     ]
    }
   ],
   "source": [
    "# 1\n",
    "import pathlib\n",
    "\n",
    "path = '/home/user/Desktop/'\n",
    "\n",
    "if pathlib.Path(path).exists():\n",
    "    print(\"Exist\")\n",
    "    list_dir = list(pathlib.Path(path).iterdir())  # Use pathlib to list directory contents\n",
    "    enter_name = input(\"Enter the name of the file or directory you want to explore: \")\n",
    "    \n",
    "    found = False  # Flag to check if the entered name is found\n",
    "    \n",
    "    for item in list_dir:\n",
    "        if item.name == enter_name:\n",
    "            found = True\n",
    "            if item.is_file():\n",
    "                print(f\"{enter_name} is a file.\")\n",
    "            elif item.is_dir():\n",
    "                print(f\"{enter_name} is a directory.\")\n",
    "    \n",
    "    if not found:\n",
    "        print(\"File or directory doesn't exist in the specified directory.\")\n",
    "    \n",
    "else:\n",
    "    print(\"Directory doesn't exist.\")\n"
   ]
  },
  {
   "cell_type": "code",
   "execution_count": 93,
   "metadata": {},
   "outputs": [
    {
     "name": "stdout",
     "output_type": "stream",
     "text": [
      "/home/user/Desktop/origin.txt\n",
      "/home/user/Desktop/softlink.txt\n"
     ]
    }
   ],
   "source": [
    "# 2\n",
    "import pathlib\n",
    "\n",
    "path = pathlib.Path('/home/user/Desktop')\n",
    "\n",
    "for item in path.iterdir():\n",
    "    print(item)"
   ]
  },
  {
   "cell_type": "code",
   "execution_count": 133,
   "metadata": {},
   "outputs": [
    {
     "name": "stdout",
     "output_type": "stream",
     "text": [
      "/home/user/Desktop\n"
     ]
    }
   ],
   "source": [
    "import pathlib\n",
    "\n",
    "path = pathlib.Path('/home/user/Desktop')\n",
    "\n",
    "try:\n",
    "    if path.exists():\n",
    "        remove_dir = path.joinpath('new_dir')\n",
    "        if remove_dir.is_dir():\n",
    "            remove_dir.rmdir()\n",
    "        remove_file = path.joinpath('new_file')\n",
    "        if remove_file.is_file():\n",
    "            remove_file.unlink()\n",
    "    elif not path.exists():\n",
    "        new_dir = path.joinpath('new_dir')\n",
    "        new_dir.mkdir()\n",
    "        new_file = path.joinpath('new_file')\n",
    "        new_file.touch()\n",
    "    else:\n",
    "        print(\"Error\")\n",
    "except Exception as e:\n",
    "    print(f\"An error occurred: {e}\")\n"
   ]
  },
  {
   "cell_type": "code",
   "execution_count": 143,
   "metadata": {},
   "outputs": [
    {
     "name": "stdout",
     "output_type": "stream",
     "text": [
      "user\n",
      "user\n"
     ]
    }
   ],
   "source": [
    "import pathlib\n",
    "\n",
    "path_file = pathlib.Path('/home/user/Desktop/Untitled Document')\n",
    "path_dir = pathlib.Path('/home/user/Desktop/Untitled Folder/')\n",
    "\n",
    "chmod_doc = path_file.chmod(0o777)\n",
    "chmod2_file = path_dir.chmod(0o777)\n",
    "\n",
    "owner = path.owner()\n",
    "print(owner)\n",
    "group = path.group()\n",
    "print(group)"
   ]
  },
  {
   "cell_type": "code",
   "execution_count": null,
   "metadata": {},
   "outputs": [],
   "source": [
    "import pathlib\n",
    "\n",
    "path = '/home/user/Desktop/file.txt'\n",
    "\n",
    "execute_mod = pathlib.Path(path).chmod(0o777) # change permissions to 777 (rwxrwxrwx)\n",
    "owner  = pathlib.Path(path).owner() # user\n",
    "group = pathlib.Path(path).group() # user"
   ]
  }
 ],
 "metadata": {
  "kernelspec": {
   "display_name": "Python 3",
   "language": "python",
   "name": "python3"
  },
  "language_info": {
   "codemirror_mode": {
    "name": "ipython",
    "version": 3
   },
   "file_extension": ".py",
   "mimetype": "text/x-python",
   "name": "python",
   "nbconvert_exporter": "python",
   "pygments_lexer": "ipython3",
   "version": "3.10.12"
  }
 },
 "nbformat": 4,
 "nbformat_minor": 2
}
