{
 "cells": [
  {
   "cell_type": "markdown",
   "metadata": {},
   "source": [
    "## File and directory manipulation (os, sys, pathlib, shutil)"
   ]
  },
  {
   "cell_type": "markdown",
   "metadata": {},
   "source": [
    "## Pathlib Module\n",
    "\n",
    "1. Path Operations: Easily check if a path exists (exists()), determine if it's a file or directory (is_file(), is_dir()), retrieve the file name (name), parent directory (parent), and extract the file extension (suffix).\n",
    "\n",
    "2. Path Iteration: Use iterdir() to iterate over a directory's contents, making it simple to access files and subdirectories within.\n",
    "\n",
    "3. Path Creation and Deletion: Create files with touch(), directories with mkdir(), and delete files or empty directories with unlink() and rmdir(), respectively.\n",
    "\n",
    "4. Permissions and Ownership: Check and modify file permissions and ownership using methods like chmod(), owner(), and group().\n",
    "\n",
    "5. Symbolic Links: pathlib can handle symbolic links and resolve them using the resolve() method.\n",
    "\n",
    "6. Path Comparison: Compare paths using == and != operators, or use match() for more flexible matching.\n",
    "\n",
    "7. Relative Paths: pathlib makes working with relative paths, especially in the context of current and parent directories, easy with methods like relative_to() and resolve().\n",
    "\n",
    "8. File Name Manipulation: The module provides methods for working with file names, including extracting the file stem (stem), replacing the file name (with_name()), and changing the file extension (with_suffix())."
   ]
  }
 ],
 "metadata": {
  "language_info": {
   "name": "python"
  }
 },
 "nbformat": 4,
 "nbformat_minor": 2
}
