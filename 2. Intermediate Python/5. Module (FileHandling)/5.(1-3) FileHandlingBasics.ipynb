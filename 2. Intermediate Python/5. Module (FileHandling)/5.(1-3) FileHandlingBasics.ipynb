{
 "cells": [
  {
   "cell_type": "markdown",
   "metadata": {},
   "source": [
    "### Module 5: File Handling\n",
    "\t5.1 File I/O best practices (Лучшие практики работы с файлами)\n",
    "\t5.2 Reading and writing text files (open, read, write) (Чтение и запись текстовых файлов)\n",
    "\t5.3 Working with binary files (Чтение и запись двоичных файлов)\n",
    "\t5.4 File and directory manipulation (os, sys, pathlib, shutil) (Работа с файлами и каталогами)\n",
    "\t5.5 Exception handling in file operations (Обработка исключений при работе с файлами)\n",
    "\t5.6 Working with CSV, JSON, XML, and YAML files + configparser (Работа с CSV, JSON, XML и YAML файлами)\n",
    "\t5.7 subprocess, sys.argv (Работа с внешними процессами и аргументами командной строки)\n",
    "\t5.8 requests (HTTP запросы)\n",
    "\t5.9 API basics (API основы и простые запросы и ответы)"
   ]
  },
  {
   "cell_type": "markdown",
   "metadata": {},
   "source": [
    "## File I/O best practices "
   ]
  },
  {
   "cell_type": "code",
   "execution_count": null,
   "metadata": {},
   "outputs": [],
   "source": [
    "# 1. Context manager is used to open and close a file automatically.\n",
    "# After running this code, you will see a file that you indicated. Then file will be closed automatically.\n",
    "with open('file.txt', 'r') as file:\n",
    "    data = file.read()"
   ]
  },
  {
   "cell_type": "code",
   "execution_count": null,
   "metadata": {},
   "outputs": [],
   "source": [
    "# 2. File existing check with os.path.exists()\n",
    "# If file exists, it returns True. Otherwise, it returns False.\n",
    "import os\n",
    "if os.path.exists('file.txt'):\n",
    "    with open('file.txt', 'r') as file:\n",
    "       data = file.read()\n",
    "else:\n",
    "    print(\"Файл не существует.\")"
   ]
  },
  {
   "cell_type": "code",
   "execution_count": null,
   "metadata": {},
   "outputs": [],
   "source": [
    "# 3. Using try-except block for file exception handling\n",
    "# If we have a problem with file, we can handle it with try-except block.\n",
    "try:\n",
    "   with open('file.txt', 'r') as file:\n",
    "       data = file.read()\n",
    "except FileNotFoundError:\n",
    "    print(\"Файл не найден.\")\n",
    "except PermissionError:\n",
    "\tprint(\"Доступ запрещен.\")"
   ]
  },
  {
   "cell_type": "code",
   "execution_count": null,
   "metadata": {},
   "outputs": [],
   "source": [
    "# 4. Indicating coding type of file (utf-8, cp1251, etc.))\n",
    "# utf-8 for correct reading of Russian symbols\n",
    "with open('file.txt', 'r', encoding='utf-8') as file:\n",
    "    data = file.read()"
   ]
  },
  {
   "cell_type": "code",
   "execution_count": null,
   "metadata": {},
   "outputs": [],
   "source": [
    "# 5. Using absolute path for file\n",
    "# Absolute path is a path that starts from the root directory.\n",
    "import os\n",
    "file_path = os.path.abspath('file.txt') # returns absolute path of file.txt (/home/user/file.txt) not /home/user/PycharmProjects/Python/file.txt"
   ]
  },
  {
   "cell_type": "code",
   "execution_count": null,
   "metadata": {},
   "outputs": [],
   "source": [
    "# 6. Using pathlib module for file path\n",
    "# Pathlib module is used for file path.\n",
    "import pathlib\n",
    "path = pathlib.Path('/home/user/file.txt') # returns /home/user/file.txt\n",
    "\n",
    "with open(path, 'r') as file: # we can use path variable for file opening\n",
    "\tdata = file.read() # we can use path variable for file reading"
   ]
  },
  {
   "cell_type": "code",
   "execution_count": null,
   "metadata": {},
   "outputs": [],
   "source": [
    "# 7 Avoid hardcoding file path\n",
    "# Recommended: with open(path, 'r') as file:\n",
    "# Not recommended:  with open('/home/user/file.txt', 'r') as file:"
   ]
  },
  {
   "cell_type": "code",
   "execution_count": null,
   "metadata": {},
   "outputs": [],
   "source": [
    "# 8 Security file operations\n",
    "# This important to check file path for security reasons. Because, sometimes, file path can contain forbidden characters.\n",
    "# Forbidden characters: \\/:*?\"<>| this characters can't be in file path\n",
    "import os\n",
    "\n",
    "file_path = input(\"Input file path: \") # input file path\n",
    "\n",
    "# Check if file path contains forbidden characters\n",
    "if not any(char in file_path for char in '\\\\/:*?\"<>|'): # forbidden characters that can't be in file path\n",
    "    with open(file_path, 'r') as file: # open file\n",
    "        data = file.read() # read file\n",
    "else:\n",
    "    print(\"The file path contains forbidden characters.\") # print error message"
   ]
  },
  {
   "cell_type": "code",
   "execution_count": 1,
   "metadata": {},
   "outputs": [],
   "source": [
    "# 9 Regular creating backup file\n",
    "# It is recommended to create backup file before writing to file. Because, if something goes wrong, we can restore file from backup file.\n",
    "import shutil\n",
    "import pathlib\n",
    "\n",
    "file_path = pathlib.Path('/some/file/file')\n",
    "\n",
    "def backup_file(file_path):\n",
    "    if os.path.exists(file_path):\n",
    "        backup_path = file_path + '.bak'\n",
    "        shutil.copy(file_path, backup_path)\n",
    "        print(f'Creating a copy of file')\n",
    "    else:\n",
    "        print(\"File is not existing, copy is not created\")\n",
    "        \n",
    "    "
   ]
  },
  {
   "cell_type": "markdown",
   "metadata": {},
   "source": [
    "10. Using comments for explaining code."
   ]
  },
  {
   "cell_type": "markdown",
   "metadata": {},
   "source": [
    "## Reading and writing text files."
   ]
  },
  {
   "cell_type": "markdown",
   "metadata": {},
   "source": [
    "If file is not exist, it will be created. After that we can write to it. Then we can read from it. And finally we can close it."
   ]
  },
  {
   "cell_type": "code",
   "execution_count": 9,
   "metadata": {},
   "outputs": [],
   "source": [
    "# Writing text to files:\n",
    "import pathlib\n",
    "\n",
    "path = pathlib.Path('/home/user/Desktop/text_file.txt')\n",
    "\n",
    "try:\n",
    "    with open(path, 'w') as file:\n",
    "        text = input(\"Input text to file: \") # Hi my name is John\n",
    "        data = file.write(text) # write text to file\n",
    "except FileNotFoundError:\n",
    "\tprint(\"File is not existing\") # print error message if file is not existing"
   ]
  },
  {
   "cell_type": "code",
   "execution_count": 10,
   "metadata": {},
   "outputs": [
    {
     "name": "stdout",
     "output_type": "stream",
     "text": [
      "Hi my name is John\n"
     ]
    }
   ],
   "source": [
    "# Reading file:\n",
    "import pathlib\n",
    "\n",
    "path = pathlib.Path('/home/user/Desktop/text_file.txt')\n",
    "\n",
    "try:\n",
    "    with open(path, 'r') as file:\n",
    "        data = file.read() # write text to file\n",
    "        print(data)\n",
    "except FileNotFoundError:\n",
    "\tprint(\"File is not existing\") # print error message if file is not existing"
   ]
  },
  {
   "cell_type": "markdown",
   "metadata": {},
   "source": [
    "## Working with binary files"
   ]
  },
  {
   "cell_type": "code",
   "execution_count": 14,
   "metadata": {},
   "outputs": [
    {
     "name": "stdout",
     "output_type": "stream",
     "text": [
      "b'sdfasdfda'\n"
     ]
    }
   ],
   "source": [
    "# Binary file reading:\n",
    "# Binary file reading is used for reading images, videos, etc.\n",
    "import pathlib\n",
    "\n",
    "path = pathlib.Path('/home/user/Desktop/new_file.txt')\n",
    "\n",
    "try:\n",
    "\twith open(path, 'rb') as file:\n",
    "\t\tdata = file.read() # write text to file\n",
    "\t\tprint(data)\n",
    "except FileNotFoundError:\n",
    "\tprint(\"File is not existing\")"
   ]
  },
  {
   "cell_type": "code",
   "execution_count": 13,
   "metadata": {},
   "outputs": [],
   "source": [
    "# Binary file writing:\n",
    "# Binary file writing is used for writing images, videos, etc.\n",
    "import pathlib\n",
    "\n",
    "path = pathlib.Path('/home/user/Desktop/new_file.txt')\n",
    "\n",
    "try:\n",
    "\twith open(path, 'wb') as file:\n",
    "\t\ttext = input(\"Input text to file: \") # Hi my name is John\n",
    "\t\tdata = file.write(text.encode('utf-8')) # write text to file in binary format (b'Hi my name is John')\n",
    "except FileNotFoundError:\n",
    "\tprint(\"File is not existing\") # print error message if file is not existing"
   ]
  }
 ],
 "metadata": {
  "kernelspec": {
   "display_name": "Python 3",
   "language": "python",
   "name": "python3"
  },
  "language_info": {
   "codemirror_mode": {
    "name": "ipython",
    "version": 3
   },
   "file_extension": ".py",
   "mimetype": "text/x-python",
   "name": "python",
   "nbconvert_exporter": "python",
   "pygments_lexer": "ipython3",
   "version": "3.10.12"
  }
 },
 "nbformat": 4,
 "nbformat_minor": 2
}
