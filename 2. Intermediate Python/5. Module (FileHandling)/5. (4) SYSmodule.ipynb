{
 "cells": [
  {
   "cell_type": "markdown",
   "metadata": {},
   "source": [
    "## File and directory manipulation (os, sys, pathlib, shutil)"
   ]
  },
  {
   "cell_type": "markdown",
   "metadata": {},
   "source": [
    "## SYS module\n",
    "### The sys module provides functions and variables used to manipulate different parts of the Python runtime environment. It allows to access system-specific parameters and functions. It is always available.\n",
    "\n",
    "1. Getting command line arguments. (sys.argv)\n",
    "2. Getting the Python interpreter version. (sys.version)\n",
    "3. Getting the current module name. (sys.modules) \n",
    "4. Getting the current platform. (sys.platform) for example: win32, linux, darwin\n",
    "5. Getting the current path. (sys.path)\n",
    "6. Working with the standard input/output streams. (sys.stdin, sys.stdout, sys.stderr)\n",
    "7. Exiting the program. (sys.exit)\n",
    "8. Getting the traceback of the last exception. (sys.exc_info)\n",
    "9. Getting the current recursion depth. (sys.getrecursionlimit, sys.setrecursionlimit)"
   ]
  },
  {
   "cell_type": "markdown",
   "metadata": {},
   "source": [
    "## To be able to call a script from any directory, you need to add its path to the PATH environment variable.\n",
    "In Linux, you can do this by:\n",
    "1. Moving the script to the /usr/local/bin directory.\n",
    "2. Adding the path to the script to the PATH environment variable.\n",
    "export PATH=$PATH:/usr/local/bin\n",
    "3. Now you can call the script from any directory.\n",
    "\n",
    "\n",
    "## To run a Python script as an executable file, you need to:\n",
    "1. Add the following line at the beginning of the file: #!/usr/bin/env python3\n",
    "2. Now, instead of python3 script.py, you can simply write ./script.py (if you have execute permissions).\n",
    "3. You can also use script.py (if the path to the file is included in the PATH variable)."
   ]
  },
  {
   "cell_type": "markdown",
   "metadata": {},
   "source": [
    "## Getting command line arguments: sys.argv"
   ]
  },
  {
   "cell_type": "code",
   "execution_count": null,
   "metadata": {},
   "outputs": [],
   "source": [
    "# 1 Getting command line arguments. (sys.argv)\n",
    "import sys\n",
    "# python3 script.py Hello World  (execute script.py with two arguments Hello and World)\n",
    "\n",
    "sys.argv # ['scrip.py', 'Hello', 'World'] # sys.argv is a list of strings\n",
    "sys.argv[0] # 'scrip.py'\n",
    "sys.argv[1] # 'Hello'\n",
    "sys.argv[2] # 'World'\n",
    "sys.argv[3] # IndexError: list index out of range\n",
    "sys.argv[1:] # ['Hello', 'World']"
   ]
  },
  {
   "cell_type": "markdown",
   "metadata": {},
   "source": [
    "### Example:"
   ]
  },
  {
   "cell_type": "code",
   "execution_count": null,
   "metadata": {},
   "outputs": [],
   "source": [
    "# script.py\n",
    "import sys\n",
    "\n",
    "if sys.argv[1] == '--help':\n",
    "\tprint('Help')\n",
    "elif sys.argv[1] == '--version':\n",
    "\tprint('Version 1.0')\n",
    "else:\n",
    "\tprint('Wrong argument')\n",
    " \n",
    "# python3 script.py --help "
   ]
  },
  {
   "cell_type": "code",
   "execution_count": null,
   "metadata": {},
   "outputs": [],
   "source": [
    "# script.py\n",
    "\n",
    "#!/usr/bin/env python3 # shebang line for executable script as a program\n",
    "import sys\n",
    "import pathlib\n",
    "\n",
    "path = sys.argv[1]\n",
    "\n",
    "if pathlib.Path(path).exists():\n",
    "    print(path)\n",
    "else:\n",
    "    print('File not found')\n",
    "    \n",
    "# ./script.py /home/user/file.txt "
   ]
  },
  {
   "cell_type": "code",
   "execution_count": 1,
   "metadata": {},
   "outputs": [
    {
     "name": "stdout",
     "output_type": "stream",
     "text": [
      "Argument provided: --ip=127.0.0.1\n"
     ]
    }
   ],
   "source": [
    "import sys\n",
    "\n",
    "# Check the number of command-line arguments\n",
    "if len(sys.argv) < 2: # length of sys.argv is 1\n",
    "    print(\"Usage: python script.py <argument>\") # Usage: python script.py <argument>\n",
    "    sys.exit(1) # exit the program with exit code 1 (error)\n",
    "\n",
    "# Access and use command-line arguments\n",
    "arg1 = sys.argv[1] # sys.argv[0] is the script name itself and sys.argv[1] is the first argument\n",
    "print(\"Argument provided:\", arg1) # Argument provided: provided argument"
   ]
  },
  {
   "cell_type": "markdown",
   "metadata": {},
   "source": [
    "## Getting the Python interpreter version: sys.version"
   ]
  },
  {
   "cell_type": "code",
   "execution_count": 2,
   "metadata": {},
   "outputs": [
    {
     "name": "stdout",
     "output_type": "stream",
     "text": [
      "3.10.12 (main, Jun 11 2023, 05:26:28) [GCC 11.4.0]\n"
     ]
    }
   ],
   "source": [
    "# sys.version is a string containing the version number of the current Python interpreter.\n",
    "import sys\n",
    "\n",
    "print(sys.version)\n",
    "# 3.10.12 is the version number of the current Python interpreter.\n",
    "# main is the name of the branch from which the Python interpreter was built.\n",
    "# Jun 11 2023 is the date when the Python interpreter was built.\n",
    "# 05:26:28 is the time when the Python interpreter was built.\n",
    "# GCC 11.4.0 is the version of the C compiler used to build the Python interpreter."
   ]
  },
  {
   "cell_type": "markdown",
   "metadata": {},
   "source": [
    "## Getting the current module name: sys.modules"
   ]
  },
  {
   "cell_type": "code",
   "execution_count": null,
   "metadata": {},
   "outputs": [],
   "source": [
    "# sys.modules is a dictionary mapping the names of modules to their definitions."
   ]
  }
 ],
 "metadata": {
  "kernelspec": {
   "display_name": "Python 3",
   "language": "python",
   "name": "python3"
  },
  "language_info": {
   "codemirror_mode": {
    "name": "ipython",
    "version": 3
   },
   "file_extension": ".py",
   "mimetype": "text/x-python",
   "name": "python",
   "nbconvert_exporter": "python",
   "pygments_lexer": "ipython3",
   "version": "3.10.12"
  }
 },
 "nbformat": 4,
 "nbformat_minor": 2
}
