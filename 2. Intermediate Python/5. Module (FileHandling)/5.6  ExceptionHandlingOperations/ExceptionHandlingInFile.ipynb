{
 "cells": [
  {
   "cell_type": "markdown",
   "metadata": {},
   "source": [
    "## Exception handling in file operations"
   ]
  },
  {
   "cell_type": "markdown",
   "metadata": {},
   "source": [
    "### Errors in file operations\n",
    "- **ValueError: I/O operation on closed file:** This error occurs when an attempt is made to perform an input-output operation on a file that has already been closed. For example, if you try to read or write to a file that has been closed earlier.\n",
    "\n",
    "- **FileNotFoundError: [Errno 2] No such file or directory: 'file.txt':** This error indicates that the file you are trying to open does not exist in the specified directory. The error occurs when the file is not found.\n",
    "\n",
    "- **PermissionError: [Errno 13] Permission denied: 'file.txt':** This error is related to insufficient access rights to the file. It occurs when you do not have the necessary permissions for reading, writing, or performing operations on the file.\n",
    "\n",
    "- **OSError: [Errno 22] Invalid argument: 'file.txt':** This error points to an invalid argument or file path provided. In particular, it can occur when you attempt to open a directory for reading or writing, instead of a file.\n"
   ]
  },
  {
   "cell_type": "code",
   "execution_count": null,
   "metadata": {},
   "outputs": [],
   "source": [
    "try:\n",
    "\twith open('myfile.txt', 'r') as file:\n",
    "\t\tcontent = file.read()\n",
    "\t\t# Perform operations with the file content\n",
    "except FileNotFoundError:\n",
    "\tprint(\"File not found\")\n",
    "except IOError:\n",
    "\tprint(\"Input/output error\")"
   ]
  },
  {
   "cell_type": "code",
   "execution_count": null,
   "metadata": {},
   "outputs": [],
   "source": [
    "try:\n",
    "\twith open('myfile.txt', 'w') as file:\n",
    "\t\tfile.write(\"Example text to write to file.\")\n",
    "\t\t# Perform other operations with the file\n",
    "except IOError:\n",
    "\tprint(\"Input/output error while writing file\")\n"
   ]
  },
  {
   "cell_type": "code",
   "execution_count": null,
   "metadata": {},
   "outputs": [],
   "source": [
    "try:\n",
    "\tfile = open('myfile.txt', 'r')\n",
    "\ttry:\n",
    "\t\tcontent = file.read()\n",
    "\t\t# Perform operations with the file content\n",
    "\tfinally:\n",
    "\t\tfile.close()\n",
    "except FileNotFoundError:\n",
    "\tprint(\"File not found\")\n",
    "except IOError:\n",
    "\tprint(\"Input/output error\")"
   ]
  },
  {
   "cell_type": "markdown",
   "metadata": {},
   "source": [
    "## Tasks\n",
    "1. Create a programme that tries to open the file \"data.txt\" for reading. Handle the FileNotFoundError exception to display the message \"File not found\" if the file is missing.\n",
    "2. Write a program that opens the file \"output.txt\" for writing and writes some data to it. Permission error. Handle the PermissionError exception to display the message \"You do not have permission to write to this file\".\n",
    "3. Develop a program that reads the contents of the \"config.ini\" file that contains the settings for your application. If the file is missing or cannot be read, print the message \"Error reading configuration file\".\n",
    "4. Create a programme that asks the user to enter a file name and then attempts to open that file for reading. If the user enters an invalid file name, handle the FileNotFoundError exception and display the message \"File not found\"."
   ]
  },
  {
   "cell_type": "code",
   "execution_count": 13,
   "metadata": {},
   "outputs": [
    {
     "name": "stdout",
     "output_type": "stream",
     "text": [
      "File not found:  [Errno 2] No such file or directory: '/home/user/Desktop/myFile.txt'\n"
     ]
    }
   ],
   "source": [
    "# 1\n",
    "import pathlib \n",
    "\n",
    "path = pathlib.Path('/home/user/Desktop/myFile.txt')\n",
    "\n",
    "try:\n",
    "    with open(path, \"r\") as file:\n",
    "        data = file.read()\n",
    "  \n",
    "except FileNotFoundError as e:\n",
    "    print(\"File not found: \", e)"
   ]
  },
  {
   "cell_type": "code",
   "execution_count": 16,
   "metadata": {},
   "outputs": [
    {
     "name": "stdout",
     "output_type": "stream",
     "text": [
      "You do not have permission to write to this file: {e} \n"
     ]
    }
   ],
   "source": [
    "# 2\n",
    "import pathlib \n",
    "\n",
    "path = pathlib.Path('/home/user/Desktop/myFile.txt')\n",
    "\n",
    "try:\n",
    "    with open(path, \"w\") as file:\n",
    "        data = file.write(\"Hello!\")\n",
    "  \n",
    "except PermissionError as e:\n",
    "    print('You do not have permission to write to this file: {e} ')"
   ]
  },
  {
   "cell_type": "code",
   "execution_count": null,
   "metadata": {},
   "outputs": [],
   "source": [
    "# 3\n",
    "try:\n",
    "\twith open('config.ini', 'r') as file:\n",
    "\t\tcontent = file.read()\n",
    "\t\t# Perform operations with the configuration file content here\n",
    "except FileNotFoundError:\n",
    "\tprint(\"Error reading configuration file: File not found\")\n",
    "except IOError:\n",
    "\tprint(\"Error reading configuration file: Unable to read file\")\n"
   ]
  },
  {
   "cell_type": "code",
   "execution_count": null,
   "metadata": {},
   "outputs": [],
   "source": [
    "# 4\n",
    "try:\n",
    "\tfile_name = input(\"Enter file name: \")\n",
    "\twith open(file_name, 'r') as file:\n",
    "\t\tcontent = file.read()\n",
    "\t\t# Perform operations with the file content here\n",
    "except FileNotFoundError:\n",
    "\tprint(\"File not found\")"
   ]
  }
 ],
 "metadata": {
  "kernelspec": {
   "display_name": "Python 3",
   "language": "python",
   "name": "python3"
  },
  "language_info": {
   "codemirror_mode": {
    "name": "ipython",
    "version": 3
   },
   "file_extension": ".py",
   "mimetype": "text/x-python",
   "name": "python",
   "nbconvert_exporter": "python",
   "pygments_lexer": "ipython3",
   "version": "3.10.12"
  }
 },
 "nbformat": 4,
 "nbformat_minor": 2
}
