{
 "cells": [
  {
   "cell_type": "markdown",
   "metadata": {},
   "source": [
    "## shutil module\n",
    "* copying files and folders (shutil.copy(), shutil.copytree(), shutil.copy2())\n",
    "* moving files and folders (shutil.move())\n",
    "* deleting files and folders (shutil.rmtree())\n",
    "* archiving files and folders (shutil.make_archive() and shutil.unpack_archive())\n",
    "* getting disk usage statistics (shutil.disk_usage() and shutil.copystat())"
   ]
  },
  {
   "cell_type": "markdown",
   "metadata": {},
   "source": [
    "### Copying Files and Folders\n",
    "* shutil.copy(src, dst) - copies a file from source to destination\n",
    "* shutil.copytree(src, dst) - copies a folder from source to destination and preserves the tree structure\n",
    "* shutil.copy2(src, dst) - copies a file from source to destination and preserves metadata (file’s creation and modification times)"
   ]
  },
  {
   "cell_type": "code",
   "execution_count": 4,
   "metadata": {},
   "outputs": [
    {
     "data": {
      "text/plain": [
       "'/home/user/Desktop/file2.txt'"
      ]
     },
     "execution_count": 4,
     "metadata": {},
     "output_type": "execute_result"
    }
   ],
   "source": [
    "# shutil.copy(src, dst)\n",
    "import shutil\n",
    "import pathlib\n",
    "\n",
    "path_source = pathlib.Path('/home/user/Desktop')\n",
    "current_path = path_source.joinpath('file1.txt')\n",
    "\n",
    "shutil.copy(current_path, '/home/user/Desktop/file2.txt')"
   ]
  },
  {
   "cell_type": "code",
   "execution_count": 12,
   "metadata": {},
   "outputs": [
    {
     "data": {
      "text/plain": [
       "PosixPath('/home/user/Desktop/dir2')"
      ]
     },
     "execution_count": 12,
     "metadata": {},
     "output_type": "execute_result"
    }
   ],
   "source": [
    "# shutil.copytree(src, dst)\n",
    "import shutil\n",
    "import pathlib\n",
    "\n",
    "path_origin = pathlib.Path('/home/user/Desktop/dir')\n",
    "path_destination = pathlib.Path('/home/user/Desktop/dir2')\n",
    "\n",
    "# Create a directory and copy all the contents of the original directory\n",
    "shutil.copytree(path_origin, path_destination)"
   ]
  },
  {
   "cell_type": "code",
   "execution_count": 16,
   "metadata": {},
   "outputs": [
    {
     "data": {
      "text/plain": [
       "'/home/user/Desktop/file2.txt'"
      ]
     },
     "execution_count": 16,
     "metadata": {},
     "output_type": "execute_result"
    }
   ],
   "source": [
    "# shutil.copy2(src, dst)\n",
    "\n",
    "import shutil\n",
    "\n",
    "# Copy the contents of the file to another file and retain the metadata of the original file\n",
    "shutil.copy2('/home/user/Desktop/file1.txt', '/home/user/Desktop/file2.txt')\n"
   ]
  },
  {
   "cell_type": "markdown",
   "metadata": {},
   "source": [
    "### Moving Files and Folders\n",
    "* shutil.move(src, dst) - moves a file or folder source to destination"
   ]
  },
  {
   "cell_type": "code",
   "execution_count": null,
   "metadata": {},
   "outputs": [],
   "source": [
    "import shutil\n",
    "\n",
    "pathOne = pathlib.Path('/home/user/Desktop/file1.txt')\n",
    "pathTwo = pathlib.Path('/home/user/Desktop/file2.txt')\n",
    "\n",
    "shutil.copyfile(pathOne, pathTwo)\n",
    "\n",
    "# or\n",
    "\n",
    "shutil.copyfile('/home/user/Desktop/file1.txt', '/home/user/Desktop/file2.txt')"
   ]
  },
  {
   "cell_type": "markdown",
   "metadata": {},
   "source": [
    "## Deleting Files and Folders\n",
    "* shutil.rmtree(path) - deletes a folder and all its contents. Better than os.rmdir() which only deletes empty folders"
   ]
  },
  {
   "cell_type": "code",
   "execution_count": 17,
   "metadata": {},
   "outputs": [],
   "source": [
    "# shutil.rmtree(src, dst)\n",
    "import shutil\n",
    "\n",
    "desktop_path = '/home/user/Desktop/dir/'\n",
    "shutil.rmtree(desktop_path)"
   ]
  },
  {
   "cell_type": "markdown",
   "metadata": {},
   "source": [
    "## Archiving files and folders\n",
    "* shutil.make_archive(base_name, format, root_dir) - creates an archive file (like .zip or .tar.gz)\n",
    "* shutil.unpack_archive(filename, extract_dir) - extracts an archive file (like .zip or .tar.gz)"
   ]
  },
  {
   "cell_type": "code",
   "execution_count": 58,
   "metadata": {},
   "outputs": [],
   "source": [
    "# shutil.make_archive(base_name, format, root_dir)\n",
    "import shutil\n",
    "import pathlib\n",
    "import os\n",
    "\n",
    "path_source = pathlib.Path('/home/user/Desktop/dir2')\n",
    "os.chdir('/home/user/Desktop/')\n",
    "make_archive = shutil.make_archive('Dir_Archive', 'zip', path_source)"
   ]
  },
  {
   "cell_type": "code",
   "execution_count": 59,
   "metadata": {},
   "outputs": [
    {
     "name": "stdout",
     "output_type": "stream",
     "text": [
      "['Untitled Document', 'origin.txt', 'Dir_Archive.zip', 'dir2', 'file2.txt', 'file1.txt', 'softlink.txt']\n"
     ]
    }
   ],
   "source": [
    "# shutil.unpack_archive(filename, extract_dir)\n",
    "import shutil\n",
    "import pathlib\n",
    "\n",
    "path_destination = pathlib.Path('/home/user/Desktop/dir3') \n",
    "os.chdir('/home/user/Desktop/')\n",
    "print(os.listdir())\n",
    "shutil.unpack_archive('Dir_Archive.zip', path_destination)\n"
   ]
  },
  {
   "cell_type": "markdown",
   "metadata": {},
   "source": [
    "## Getting Disk Usage Statistics\n",
    "* shutil.disk_usage(path) - returns a tuple with total, used and free space in bytes\n",
    "* shutil.copystat(src, dst) - copies permissions, last access time, last modification time from source to destination"
   ]
  },
  {
   "cell_type": "code",
   "execution_count": 67,
   "metadata": {},
   "outputs": [
    {
     "name": "stdout",
     "output_type": "stream",
     "text": [
      "Total: 117 GB\n",
      "Used: 34 GB\n",
      "Free: 77 GB\n"
     ]
    }
   ],
   "source": [
    "# shutil.disk_usage(path)\n",
    "import shutil\n",
    "import pathlib\n",
    "\n",
    "path = pathlib.Path('/')\n",
    "\n",
    "shutil.disk_usage(path) # total, used, free\n",
    "\n",
    "# convert bytes to GB\n",
    "total, used, free = shutil.disk_usage(path)\n",
    "total = total // (2**30)\n",
    "used = used // (2**30)\n",
    "free = free // (2**30)\n",
    "\n",
    "print(f'Total: {total} GB')\n",
    "print(f'Used: {used} GB')\n",
    "print(f'Free: {free} GB')\n"
   ]
  },
  {
   "cell_type": "code",
   "execution_count": 68,
   "metadata": {},
   "outputs": [],
   "source": [
    "# shutil.copystat(src, dst)\n",
    "import shutil\n",
    "import pathlib\n",
    "\n",
    "path_source = pathlib.Path('/home/user/Desktop/file1.txt')\n",
    "\n",
    "shutil.copystat(path_source, '/home/user/Desktop/file2.txt') # copy the metadata of the file\n",
    "# After running the code, check the metadata of the file2.txt file and you will see that it is the same as the file1.txt file."
   ]
  },
  {
   "cell_type": "markdown",
   "metadata": {},
   "source": [
    "## Tasks:\n",
    "\n",
    "1. Write a program that copies all files with the \".txt\" extension from one folder to another using `shutil.copy()`.\n",
    "\n",
    "2. Create a function that moves all files with the \".jpg\" extension from the current working directory to a subfolder named \"images\" using `shutil.move()`.\n",
    "\n",
    "3. Write a script that deletes all files and subfolders in a specified directory but leaves the directory itself intact, using `shutil.rmtree()`.\n",
    "\n",
    "4. Create a program that archives all files in a specific directory with the name \"backup.zip\" using `shutil.make_archive()`.\n",
    "\n",
    "5. Write a function that calculates the total disk space used in a given directory using `shutil.disk_usage()` and displays this information."
   ]
  },
  {
   "cell_type": "code",
   "execution_count": 77,
   "metadata": {},
   "outputs": [
    {
     "name": "stdout",
     "output_type": "stream",
     "text": [
      "/home/user/Desktop/origin.txt copied to /home/user/Desktop/dir2\n",
      "/home/user/Desktop/file2.txt copied to /home/user/Desktop/dir2\n",
      "/home/user/Desktop/file1.txt copied to /home/user/Desktop/dir2\n",
      "/home/user/Desktop/softlink.txt copied to /home/user/Desktop/dir2\n"
     ]
    }
   ],
   "source": [
    "# 1\n",
    "import shutil\n",
    "import pathlib\n",
    "\n",
    "path = pathlib.Path('/home/user/Desktop/')\n",
    "\n",
    "for items in path.iterdir():\n",
    "\tif items.match('*.txt'):\n",
    "\t\tshutil.copy(items, '/home/user/Desktop/dir2')\n",
    "\t\tprint(f\"{items} copied to /home/user/Desktop/dir2\")\n"
   ]
  },
  {
   "cell_type": "code",
   "execution_count": 96,
   "metadata": {},
   "outputs": [
    {
     "name": "stdout",
     "output_type": "stream",
     "text": [
      "/home/user/Desktop/current/chamomile_pollen_petals_946109_3840x2160.jpg move to /home/user/Desktop/current/images\n",
      "/home/user/Desktop/current/coniferous_forest_trees_aerial_view_866778_3840x2160.jpg move to /home/user/Desktop/current/images\n"
     ]
    }
   ],
   "source": [
    "# 2\n",
    "import shutil\n",
    "import pathlib\n",
    "\n",
    "path = pathlib.Path('/home/user/Desktop/current/')\n",
    "\n",
    "# Create a directory named images inside the current directory\n",
    "path.joinpath('images').mkdir()\n",
    "\n",
    "for items in path.iterdir():\n",
    "\tif items.match('*.jpg'):\n",
    "\t\tshutil.move(items, '/home/user/Desktop/current/images')\n",
    "\t\tprint(f\"{items} move to /home/user/Desktop/current/images\")\n"
   ]
  },
  {
   "cell_type": "code",
   "execution_count": 99,
   "metadata": {},
   "outputs": [
    {
     "name": "stdout",
     "output_type": "stream",
     "text": [
      "Deleted all files and subfolders in '/home/user/Desktop/dir3'.\n"
     ]
    }
   ],
   "source": [
    "# 3\n",
    "import shutil\n",
    "import pathlib\n",
    "\n",
    "def delete_dir(directory_path):\n",
    "\ttry:\n",
    "\t\tshutil.rmtree(directory_path)\n",
    "\t\tprint(f\"Deleted all files and subfolders in '{directory_path}'.\")\n",
    "\texcept Exception as e:\n",
    "\t\tprint(f\"An error occurred: {e}\")\n",
    "\n",
    "path_to_dir = pathlib.Path('/home/user/Desktop/dir3')\n",
    "delete_dir(path_to_dir)"
   ]
  },
  {
   "cell_type": "code",
   "execution_count": 103,
   "metadata": {},
   "outputs": [],
   "source": [
    "# 4\n",
    "import shutil\n",
    "import pathlib\n",
    "import os\n",
    "\n",
    "path_to_archive = pathlib.Path('/home/user/Desktop/path_to_archive')\n",
    "path_with_files = pathlib.Path('/home/user/Desktop/')\n",
    "\n",
    "os.chdir('/home/user/Desktop/')\n",
    "\n",
    "for txt_file in path_with_files.iterdir():\n",
    "\tif txt_file.match('*.txt'):\n",
    "\t\tshutil.copy(txt_file, path_to_archive)\n",
    "\t\tmake_archive = shutil.make_archive('txt_files_archive', 'zip', path_to_archive)"
   ]
  },
  {
   "cell_type": "code",
   "execution_count": 108,
   "metadata": {},
   "outputs": [
    {
     "name": "stdout",
     "output_type": "stream",
     "text": [
      "usage(total=126223187968, used=36697751552, free=83066212352)\n",
      "Total: 117 GB\n",
      "Used: 34 GB\n",
      "Free: 77 GB\n"
     ]
    }
   ],
   "source": [
    "# 5\n",
    "import shutil\n",
    "import pathlib\n",
    "\n",
    "path = pathlib.Path('/home/user/Desktop/current/')\n",
    "\n",
    "disk_usage = shutil.disk_usage(path) # total, used, free\n",
    "print(disk_usage)\n",
    "\n",
    "# convert bytes to GB\n",
    "total, used, free = disk_usage\n",
    "total = total // (2**30)\n",
    "used = used // (2**30)\n",
    "free = free // (2**30)\n",
    "\n",
    "print(f'Total: {total} GB')\n",
    "print(f'Used: {used} GB')\n",
    "print(f'Free: {free} GB')"
   ]
  }
 ],
 "metadata": {
  "kernelspec": {
   "display_name": "Python 3",
   "language": "python",
   "name": "python3"
  },
  "language_info": {
   "codemirror_mode": {
    "name": "ipython",
    "version": 3
   },
   "file_extension": ".py",
   "mimetype": "text/x-python",
   "name": "python",
   "nbconvert_exporter": "python",
   "pygments_lexer": "ipython3",
   "version": "3.10.12"
  }
 },
 "nbformat": 4,
 "nbformat_minor": 2
}
