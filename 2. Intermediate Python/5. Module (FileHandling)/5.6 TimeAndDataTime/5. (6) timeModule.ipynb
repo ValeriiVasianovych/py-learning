{
 "cells": [
  {
   "cell_type": "markdown",
   "metadata": {},
   "source": [
    "## Time Module"
   ]
  },
  {
   "cell_type": "markdown",
   "metadata": {},
   "source": [
    "### Time module used to work with time related tasks.\n",
    "\n",
    "epoch - 1st January 1970 00:00:00\n",
    "\n",
    "* time.time() - returns current time in seconds since epoch\n",
    "* time.ctime([seconds]) - returns current time in string format since epoch\n",
    "* time.pref_counter() - returns current time in seconds since epoch with high precision\n",
    "* time.sleep(seconds) - suspends execution of current thread for given seconds\n",
    "* time.localtime([seconds]) - returns current time in tuple format\n",
    "* time.strftime(format[, tuple]) - returns string representing time in given format\n",
    "* time.strptime(string[, format]) - returns tuple representing time in given format"
   ]
  },
  {
   "cell_type": "markdown",
   "metadata": {},
   "source": [
    "### time()"
   ]
  },
  {
   "cell_type": "code",
   "execution_count": 13,
   "metadata": {},
   "outputs": [
    {
     "name": "stdout",
     "output_type": "stream",
     "text": [
      "1698922018.1017544\n"
     ]
    }
   ],
   "source": [
    "# time()\n",
    "import time \n",
    "print(time.time()) # time in seconds since 1st Jan 1970"
   ]
  },
  {
   "cell_type": "code",
   "execution_count": 38,
   "metadata": {},
   "outputs": [
    {
     "name": "stdout",
     "output_type": "stream",
     "text": [
      "Thu Nov  2 12:01:58 2023\n"
     ]
    }
   ],
   "source": [
    "# How to convert time in seconds to date and time\n",
    "print(time.ctime(time.time()))"
   ]
  },
  {
   "cell_type": "markdown",
   "metadata": {},
   "source": [
    "### ctime()"
   ]
  },
  {
   "cell_type": "code",
   "execution_count": 15,
   "metadata": {},
   "outputs": [
    {
     "name": "stdout",
     "output_type": "stream",
     "text": [
      "Thu Nov  2 11:48:05 2023\n"
     ]
    }
   ],
   "source": [
    "# ctime()\n",
    "import time\n",
    "print(time.ctime()) # Current time in readable format"
   ]
  },
  {
   "cell_type": "code",
   "execution_count": 16,
   "metadata": {},
   "outputs": [
    {
     "name": "stdout",
     "output_type": "stream",
     "text": [
      "Sat Feb 14 00:31:30 2009\n"
     ]
    }
   ],
   "source": [
    "# ctime(seconds)\n",
    "import time\n",
    "print(time.ctime(1234567890)) # time in readable format"
   ]
  },
  {
   "cell_type": "markdown",
   "metadata": {},
   "source": [
    "### pref_counter()"
   ]
  },
  {
   "cell_type": "code",
   "execution_count": 37,
   "metadata": {},
   "outputs": [
    {
     "name": "stdout",
     "output_type": "stream",
     "text": [
      "Execution time: (3, 2) seconds\n"
     ]
    }
   ],
   "source": [
    "# pref_counter() - returns the value (in fractional seconds) of a performance counter, i.e. a clock with the highest available resolution to measure a short duration\n",
    "import time\n",
    "\n",
    "start_time = time.perf_counter()\n",
    "\n",
    "for i in range(10000000):\n",
    "\ti = i ** 2\n",
    "\n",
    "end_time = time.perf_counter()\n",
    "execution_time = end_time - start_time\n",
    "\n",
    "print(f\"Execution time: {round(execution_time), 2} seconds\")"
   ]
  },
  {
   "cell_type": "markdown",
   "metadata": {},
   "source": [
    "### sleep()"
   ]
  },
  {
   "cell_type": "code",
   "execution_count": null,
   "metadata": {},
   "outputs": [],
   "source": [
    "# sleep() - suspends execution of the current thread for a given number of seconds\n",
    "import time\n",
    "\n",
    "for i in range(10):\n",
    "\tprint(i)\n",
    "\ttime.sleep(2) # suspends execution of the current thread for 2 seconds"
   ]
  },
  {
   "cell_type": "markdown",
   "metadata": {},
   "source": [
    "### localtime()"
   ]
  },
  {
   "cell_type": "code",
   "execution_count": 40,
   "metadata": {},
   "outputs": [
    {
     "name": "stdout",
     "output_type": "stream",
     "text": [
      "time.struct_time(tm_year=2023, tm_mon=11, tm_mday=2, tm_hour=12, tm_min=5, tm_sec=2, tm_wday=3, tm_yday=306, tm_isdst=0)\n"
     ]
    }
   ],
   "source": [
    "# localtime() - returns the current time in the local timezone\n",
    "\n",
    "import time\n",
    "\n",
    "local_time = time.localtime()\n",
    "print(local_time) # returns the current time in the local timezone in a named tuple"
   ]
  },
  {
   "cell_type": "markdown",
   "metadata": {},
   "source": [
    "### strftime()"
   ]
  },
  {
   "cell_type": "code",
   "execution_count": 41,
   "metadata": {},
   "outputs": [
    {
     "name": "stdout",
     "output_type": "stream",
     "text": [
      "2023-11-02 12:06:58\n"
     ]
    }
   ],
   "source": [
    "# strftime() - returns a string representing the time, controlled by an explicit format string\n",
    "\n",
    "import time\n",
    "\n",
    "local_time = time.localtime()\n",
    "print(time.strftime(\"%Y-%m-%d %H:%M:%S\", local_time)) # returns the current time in the local timezone in a string"
   ]
  },
  {
   "cell_type": "markdown",
   "metadata": {},
   "source": [
    "### Tasks\n",
    "1. Create a date object for a given date (for example, your date of birth), and then output the day of the week for that date.\n",
    "2. Write a function that takes two dates and determines the difference in days between them.\n",
    "3. Write a programme that outputs the dates of all Sundays in the current month."
   ]
  },
  {
   "cell_type": "code",
   "execution_count": 10,
   "metadata": {},
   "outputs": [
    {
     "name": "stdout",
     "output_type": "stream",
     "text": [
      "You was born: Friday, 14.11.2003\n"
     ]
    }
   ],
   "source": [
    "# 1\n",
    "import time\n",
    "my_birthday = time.strptime(\"14.11.2003\", \"%d.%m.%Y\")\n",
    "days_of_week = [\"Monday\", \"Tuesday\", \"Wednesday\", \"Thursday\", \"Friday\", \"Saturday\", \"Sunday\"]\n",
    "day_of_week = my_birthday.tm_wday # + 1 because Monday is was 0 but we want it to be 1\n",
    "print(f'You was born: {days_of_week[day_of_week] + \", \" + time.strftime(\"%d.%m.%Y\", my_birthday)}')\n"
   ]
  },
  {
   "cell_type": "code",
   "execution_count": 24,
   "metadata": {},
   "outputs": [
    {
     "name": "stdout",
     "output_type": "stream",
     "text": [
      "Difference between 01.01.2015 and 05.11.2023 is 3230 days, 9 years\n"
     ]
    }
   ],
   "source": [
    "# 2\n",
    "import time\n",
    "date_one = time.strptime(\"01.01.2015\", \"%d.%m.%Y\")\n",
    "date_two = time.strptime(\"5.11.2023\", \"%d.%m.%Y\")\n",
    "\n",
    "difference = time.mktime(date_two) - time.mktime(date_one) # mktime() - returns the seconds passed since epoch\n",
    "print(f'Difference between {time.strftime(\"%d.%m.%Y\", date_one)} and {time.strftime(\"%d.%m.%Y\", date_two)} is {round(difference / 86400)} days, {round(difference / 31536000) } years') # 86400 seconds in a day"
   ]
  },
  {
   "cell_type": "code",
   "execution_count": 33,
   "metadata": {},
   "outputs": [
    {
     "name": "stdout",
     "output_type": "stream",
     "text": [
      "Current month is November\n",
      "All sartudays in November are: [5, 12, 19, 26]\n"
     ]
    }
   ],
   "source": [
    "# 3\n",
    "import time\n",
    "currnt_month = time.strptime(\"11\", \"%m\")\n",
    "print(f'Current month is {time.strftime(\"%B\", currnt_month)}')\n",
    "all_sartudays_in_november = []\n",
    "for i in range(1, 30):\n",
    "\tdate = time.strptime(f\"{i}.11.2023\", \"%d.%m.%Y\")\n",
    "\tif date.tm_wday == 5:\n",
    "\t\tall_sartudays_in_november.append(i + 1)\n",
    "print(f'All sartudays in November are: {all_sartudays_in_november}')\n"
   ]
  }
 ],
 "metadata": {
  "kernelspec": {
   "display_name": "Python 3",
   "language": "python",
   "name": "python3"
  },
  "language_info": {
   "codemirror_mode": {
    "name": "ipython",
    "version": 3
   },
   "file_extension": ".py",
   "mimetype": "text/x-python",
   "name": "python",
   "nbconvert_exporter": "python",
   "pygments_lexer": "ipython3",
   "version": "3.10.12"
  }
 },
 "nbformat": 4,
 "nbformat_minor": 2
}
