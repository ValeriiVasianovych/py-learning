{
 "cells": [
  {
   "cell_type": "markdown",
   "metadata": {},
   "source": [
    "## Datatime module"
   ]
  },
  {
   "cell_type": "markdown",
   "metadata": {},
   "source": [
    "This module allows us to create a datetime object that has both a date and time information. We can create a datetime object by specifying the year, month, day, hour, minute, second, and microsecond to datetime().\n",
    "\n",
    "Difference between datatime and time module is that datatime module has a year, month, day, hour, minute, second, and microsecond while time module has only hour, minute, second, and microsecond. Datatime is more useful than time module."
   ]
  },
  {
   "cell_type": "code",
   "execution_count": 12,
   "metadata": {},
   "outputs": [
    {
     "name": "stdout",
     "output_type": "stream",
     "text": [
      "2023-11-05 19:05:19.607042\n",
      "2023 11 5 19 5 19 607289\n"
     ]
    }
   ],
   "source": [
    "from datetime import datetime # Because i want to use datetime.now() function. if i use datetime.now() function, i have to import datetime module every time.\n",
    "\n",
    "date = datetime.now() # 2020-07-21 15:44:00.000000\n",
    "year = datetime.now().year # 2020\n",
    "month = datetime.now().month # 7\n",
    "day = datetime.now().day # 21\n",
    "hour = datetime.now().hour # 15\n",
    "minute = datetime.now().minute # 44\n",
    "second = datetime.now().second # 0\n",
    "microsecond = datetime.now().microsecond # 0\n",
    "\n",
    "print(date)\n",
    "print(year, month, day, hour, minute, second, microsecond)\n",
    "\n",
    "time = datetime.now().time() # 15:44:00.000000\n",
    "\n",
    "weekday = datetime.now().weekday() # 1 (Tuesday) (Monday: 0, Tuesday: 1, Wednesday: 2, Thursday: 3, Friday: 4, Saturday: 5, Sunday: 6)\n",
    "isweekday = datetime.now().isoweekday() # 2 (Tuesday) (Monday: 1, Tuesday: 2, Wednesday: 3, Thursday: 4, Friday: 5, Saturday: 6, Sunday: 7)\n",
    "weekday_name = datetime.now().strftime('%A') # Tuesday\n",
    "\n",
    "is8601 = datetime.now().isoformat() # 2020-07-21T15:44:00.000000\n",
    "\n",
    "ctime = datetime.now().ctime() # Tue Jul 21 15:44:00 2020\n",
    "\n",
    "strftime = datetime.now().strftime('%Y-%m-%d %H:%M:%S') # 2020-07-21 15:44:00"
   ]
  },
  {
   "cell_type": "code",
   "execution_count": null,
   "metadata": {},
   "outputs": [],
   "source": [
    "from datetime import datetime, timedelta\n",
    "# timedelta() function is used to calculate time difference.\n",
    "\n",
    "timedelta = datetime.now() + timedelta(days=1) # 2020-07-22 15:44:00.000000"
   ]
  },
  {
   "cell_type": "markdown",
   "metadata": {},
   "source": [
    "## Tasks\n",
    "1. Create a datetime object for the current point in time, and then output it in the format \"YYYYY-MM-DD HH:MM:SS\".\n",
    "2. Write a function that takes a date and time and then adds a certain number of days and hours to it.\n",
    "3. Create a dictionary with different dates and times and then output them in sorted order, starting with the earliest."
   ]
  },
  {
   "cell_type": "code",
   "execution_count": 13,
   "metadata": {},
   "outputs": [
    {
     "data": {
      "text/plain": [
       "'2023 11 05 19:14:11'"
      ]
     },
     "execution_count": 13,
     "metadata": {},
     "output_type": "execute_result"
    }
   ],
   "source": [
    "# 1 \n",
    "from datetime import datetime\n",
    "\n",
    "current_date = datetime.now() # 2020-07-21 15:44:00.000000\n",
    "current_date.strftime('%Y-%m-%d %H:%M:%S') # 2020-07-21 15:44:00"
   ]
  },
  {
   "cell_type": "code",
   "execution_count": 31,
   "metadata": {},
   "outputs": [
    {
     "name": "stdout",
     "output_type": "stream",
     "text": [
      "2023-11-05 19:31:29\n",
      "2023-11-08 21:41:29\n"
     ]
    }
   ],
   "source": [
    "# 2\n",
    "from datetime import datetime, timedelta\n",
    "\n",
    "def get_date(date):\n",
    "    curent_date = date.strftime('%Y-%m-%d %H:%M:%S') # 2020-07-21 15:44:00\n",
    "    print(curent_date)\n",
    "    # add time and days to date\n",
    "    new_date = date + timedelta( days=3, hours=2, minutes=10) # 2020-07-21 15:44:00.000000 + 3 days, 2 hours, 10 minutes\n",
    "    format_new_date = new_date.strftime('%Y-%m-%d %H:%M:%S') # 2020-07-24 17:54:00\n",
    "    print(format_new_date)\n",
    "    \n",
    "    \n",
    "\n",
    "current_date = datetime.now()\n",
    "get_date(current_date) # 2020-07-21 15:44:00.000000"
   ]
  },
  {
   "cell_type": "code",
   "execution_count": 35,
   "metadata": {},
   "outputs": [
    {
     "name": "stdout",
     "output_type": "stream",
     "text": [
      "date2: 2022-12-05 14:45:00\n",
      "date1: 2023-01-15 08:30:00\n",
      "date4: 2023-02-10 19:15:00\n",
      "date3: 2023-03-20 10:00:00\n"
     ]
    }
   ],
   "source": [
    "# 3\n",
    "from datetime import datetime\n",
    "\n",
    "date_dict = {\n",
    "    \"date1\": datetime(2023, 1, 15, 8, 30),\n",
    "    \"date2\": datetime(2022, 12, 5, 14, 45),\n",
    "    \"date3\": datetime(2023, 3, 20, 10, 0),\n",
    "    \"date4\": datetime(2023, 2, 10, 19, 15)\n",
    "}\n",
    "\n",
    "# sort by values\n",
    "sorted_dates = sorted(date_dict.items(), key=lambda x: x[1]) # key = lambda x: x[0] - sort by keys, key = lambda x: x[1] - sort by values\n",
    "\n",
    "# print sorted dates\n",
    "for key, value in sorted_dates:\n",
    "    print(f\"{key}: {value}\")\n"
   ]
  }
 ],
 "metadata": {
  "kernelspec": {
   "display_name": "Python 3",
   "language": "python",
   "name": "python3"
  },
  "language_info": {
   "codemirror_mode": {
    "name": "ipython",
    "version": 3
   },
   "file_extension": ".py",
   "mimetype": "text/x-python",
   "name": "python",
   "nbconvert_exporter": "python",
   "pygments_lexer": "ipython3",
   "version": "3.10.12"
  }
 },
 "nbformat": 4,
 "nbformat_minor": 2
}
