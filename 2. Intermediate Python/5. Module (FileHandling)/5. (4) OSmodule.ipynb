{
 "cells": [
  {
   "cell_type": "markdown",
   "metadata": {},
   "source": [
    "## File and directory manipulation (os, sys, pathlib, shutil)"
   ]
  },
  {
   "cell_type": "markdown",
   "metadata": {},
   "source": [
    "## OS module\n",
    "1. Creating, renaming, and removing directories and files.\n",
    "2. Listing directory contents.\n",
    "3. Changing the current working directory.\n",
    "4. Getting the current working directory.\n",
    "5. Getting information about files and directories."
   ]
  },
  {
   "cell_type": "markdown",
   "metadata": {},
   "source": [
    "### 1. Creating, renaming, copying and removing directories and files."
   ]
  },
  {
   "cell_type": "code",
   "execution_count": null,
   "metadata": {},
   "outputs": [],
   "source": [
    "# Creating, renaming, deleting folders\n",
    "import os\n",
    "\n",
    "os.mkdir('new_folder') # create a new folder\n",
    "os.rename('new_folder', 'new_folder2') # rename a folder\n",
    "os.system('copy file1.txt file2.txt') # copy file1.txt to file2.txt\n",
    "os.rmdir('new_folder2') # delete a folder"
   ]
  },
  {
   "cell_type": "code",
   "execution_count": null,
   "metadata": {},
   "outputs": [],
   "source": [
    "# Creating, renaming, deleting files\n",
    "import os\n",
    "\n",
    "os.mknod('new_file.txt') # create a new file\n",
    "os.rename('new_file.txt', 'new_file2.txt') # rename a file\n",
    "os.remove('new_file2.txt') # delete a file"
   ]
  },
  {
   "cell_type": "markdown",
   "metadata": {},
   "source": [
    "### 2. Listing directory contents."
   ]
  },
  {
   "cell_type": "code",
   "execution_count": null,
   "metadata": {},
   "outputs": [],
   "source": [
    "# Show all files and folders in the current working directory\n",
    "import os\n",
    "os.listdir() # show all files and folders in the current working directory"
   ]
  },
  {
   "cell_type": "markdown",
   "metadata": {},
   "source": [
    "### 3. Changing the current working directory."
   ]
  },
  {
   "cell_type": "code",
   "execution_count": 2,
   "metadata": {},
   "outputs": [
    {
     "data": {
      "text/plain": [
       "'/home/user'"
      ]
     },
     "execution_count": 2,
     "metadata": {},
     "output_type": "execute_result"
    }
   ],
   "source": [
    "# Change current working directory\n",
    "import os\n",
    "os.chdir('/home/user/') # change current working directory\n",
    "os.getcwd() # get current working directory\n"
   ]
  },
  {
   "cell_type": "markdown",
   "metadata": {},
   "source": [
    "### 4. Getting the current working directory."
   ]
  },
  {
   "cell_type": "code",
   "execution_count": 4,
   "metadata": {},
   "outputs": [
    {
     "data": {
      "text/plain": [
       "'/home/user'"
      ]
     },
     "execution_count": 4,
     "metadata": {},
     "output_type": "execute_result"
    }
   ],
   "source": [
    "# Getting the current working directory\n",
    "import os\n",
    "\n",
    "os.getcwd() # get current working directory "
   ]
  },
  {
   "cell_type": "markdown",
   "metadata": {},
   "source": [
    "### 5. Getting information about files and directories."
   ]
  },
  {
   "cell_type": "code",
   "execution_count": 6,
   "metadata": {},
   "outputs": [
    {
     "data": {
      "text/plain": [
       "False"
      ]
     },
     "execution_count": 6,
     "metadata": {},
     "output_type": "execute_result"
    }
   ],
   "source": [
    "# Getting information about if a file or folder exists\n",
    "import os\n",
    "\n",
    "os.path.exists('new_file.txt') # check if a file or folder exists (returns True or False)"
   ]
  },
  {
   "cell_type": "code",
   "execution_count": 22,
   "metadata": {},
   "outputs": [
    {
     "name": "stdout",
     "output_type": "stream",
     "text": [
      "/home/user/Desktop\n",
      "['text_file.txt', 'new_file.txt']\n",
      "True\n",
      "False\n"
     ]
    }
   ],
   "source": [
    "# Is file or folder\n",
    "import os\n",
    "print(os.getcwd()) # get current working directory\n",
    "print(os.listdir()) # show all files and folders in the current working directory\n",
    "\n",
    "print(os.path.isfile('new_file.txt')) # check if a file exists (returns True or False)\n",
    "print(os.path.isdir('new_folder')) # check if a folder exists (returns True or False)"
   ]
  },
  {
   "cell_type": "code",
   "execution_count": 26,
   "metadata": {},
   "outputs": [
    {
     "name": "stdout",
     "output_type": "stream",
     "text": [
      "['new_folder', 'text_file.txt', 'new_file.txt']\n",
      "File: 9\n",
      "Folder: 4096\n"
     ]
    }
   ],
   "source": [
    "# Get size of a file or folder in bytes\n",
    "import os\n",
    "\n",
    "print(os.listdir()) # show all files and folders in the current working directory\n",
    "\n",
    "print(f'File: {os.path.getsize(\"new_file.txt\")}') # get size of a file\n",
    "print(f'Folder: {os.path.getsize(\"new_folder\")}') # get size of a folder"
   ]
  },
  {
   "cell_type": "code",
   "execution_count": 29,
   "metadata": {},
   "outputs": [
    {
     "name": "stdout",
     "output_type": "stream",
     "text": [
      "['new_folder', 'text_file.txt', 'new_file.txt']\n",
      "File: 1698080558.559151\n",
      "Folder: 1698083144.5548286\n",
      "File: 2023-10-23 19:02:38.559151\n",
      "Folder: 2023-10-23 19:45:44.554829\n"
     ]
    }
   ],
   "source": [
    "# Get a date of creation or modification of a file or folder in seconds\n",
    "\n",
    "import os\n",
    "import datetime\n",
    "\n",
    "print(os.listdir()) # show all files and folders in the current working directory\n",
    "\n",
    "print(f'File: {os.path.getctime(\"new_file.txt\")}') # get date of creation of a file in seconds\n",
    "print(f'Folder: {os.path.getctime(\"new_folder\")}') # get date of creation of a folder in seconds\n",
    "\n",
    "print(f'File: {datetime.datetime.fromtimestamp(os.path.getctime(\"new_file.txt\"))}') # get date of creation of a file readable\n",
    "print(f'Folder: {datetime.datetime.fromtimestamp(os.path.getctime(\"new_folder\"))}') # get date of creation of a folder readable"
   ]
  },
  {
   "cell_type": "code",
   "execution_count": 30,
   "metadata": {},
   "outputs": [
    {
     "name": "stdout",
     "output_type": "stream",
     "text": [
      "['new_folder', 'text_file.txt', 'new_file.txt']\n",
      "File: 2023-10-23 19:02:38.559151\n",
      "Folder: 2023-10-23 19:45:37.854766\n"
     ]
    }
   ],
   "source": [
    "# Get time of last modification of a file or folder in readable format\n",
    "import os\n",
    "import datetime\n",
    "\n",
    "print(os.listdir()) # show all files and folders in the current working directory\n",
    "\n",
    "print(f'File: {datetime.datetime.fromtimestamp(os.path.getmtime(\"new_file.txt\"))}') # get date of last modification of a file readable\n",
    "print(f'Folder: {datetime.datetime.fromtimestamp(os.path.getmtime(\"new_folder\"))}') # get date of last modification of a folder readable"
   ]
  },
  {
   "cell_type": "markdown",
   "metadata": {},
   "source": [
    "## Tasks\n",
    "1. Create a function that takes two file paths (source file and target file) and uses the `os` module to copy the content of the source file to the target file. You can use `with open` operations to open the files for reading and writing.\n",
    "\n",
    "2. Create a program that scans a specified directory and finds all files with a given extension (e.g., .txt). Output the list of found files.\n",
    "\n",
    "3. Create a function that takes a list of paths to text files and combines them into one file. You can use `with open` operations to open the files for reading and writing.\n",
    "\n",
    "4. Write a program that examines a specified directory and deletes files that are older than a certain number of days. You can use the `os` module to get the creation time of files and compare it with the current date.\n",
    "\n",
    "5. Write a program that creates a hierarchy of directories and files based on a specified structure. For example, you can provide a text file describing the structure, and the program should create the corresponding directories and files in the file system. "
   ]
  },
  {
   "cell_type": "code",
   "execution_count": 32,
   "metadata": {},
   "outputs": [],
   "source": [
    "# 1\n",
    "import pathlib, os\n",
    "\n",
    "def path_func(source, destination):\n",
    "    with open(source, 'r') as src, open(destination, 'w') as destination:\n",
    "        data = src.read()\n",
    "        destination.write(data)\n",
    "\n",
    "source_file = pathlib.Path('/home/user/source.txt')\n",
    "destination_file = pathlib.Path('/home/user/Desktop/destination.txt')\n",
    "\n",
    "if os.path.exists(source_file) and os.path.exists(destination_file):\n",
    "    path_func(source_file, destination_file)\n",
    "else:\n",
    "    print(\"Error.\")"
   ]
  },
  {
   "cell_type": "code",
   "execution_count": 50,
   "metadata": {},
   "outputs": [
    {
     "name": "stdout",
     "output_type": "stream",
     "text": [
      "destination.txt\n",
      "text_file.txt\n",
      "new_file.txt\n"
     ]
    }
   ],
   "source": [
    "# 2\n",
    "import os\n",
    "\n",
    "def find_txt(directory):\n",
    "    content = os.listdir(directory)\n",
    "    for list_of_files_or_dir in content:\n",
    "        if '.txt' in list_of_files_or_dir:\n",
    "            print(f'All .txt files: {list_of_files_or_dir}')\n",
    "            \n",
    "\n",
    "select_dir = input(\"Enter a directory that you want explore: /path/to/dir\")\n",
    "\n",
    "if os.path.exists(select_dir):\n",
    "    find_txt(select_dir)\n",
    "else:\n",
    "    print(f'Path error: {select_dir}')"
   ]
  },
  {
   "cell_type": "code",
   "execution_count": 62,
   "metadata": {},
   "outputs": [],
   "source": [
    "# 3\n",
    "import pathlib\n",
    "\n",
    "def merge_files(file1, file2):\n",
    "    file3 = input(\"Enter a name for file that will be merge content from file1 and file2: \")\n",
    "    with open(file1, 'r') as fileOne, open(file2, 'r') as fileTwo, open(file3, 'w') as main:\n",
    "        data_from_file1 = fileOne.read()\n",
    "        data_from_file2 = fileTwo.read()\n",
    "        main = main.write(data_from_file1 + data_from_file2)\n",
    "    \n",
    "path_one = pathlib.Path('/home/user/Desktop/file_one.txt')\n",
    "path_two = pathlib.Path('/home/user/Desktop/file_two.txt')\n",
    "\n",
    "if pathlib.Path(path_one).exists() and pathlib.Path(path_two).exists():\n",
    "    merge_files(path_one, path_two)\n",
    "else:\n",
    "    print('Files do not exist, but I can create them.')\n",
    "    with open(path_one, 'w') as path_one:\n",
    "        data = path_one.write(\"File 1 content \\n\")\n",
    "    with open(path_two, 'w') as path_two:\n",
    "        data = path_two.write(\"File 2 content \\n\")\n",
    "    merge_files(path_one, path_two)"
   ]
  },
  {
   "cell_type": "code",
   "execution_count": 7,
   "metadata": {},
   "outputs": [
    {
     "name": "stdout",
     "output_type": "stream",
     "text": [
      "Removed file: /home/user/Desktop/text_file.txt\n",
      "Removed file: /home/user/Desktop/file3.txt\n",
      "Removed file: /home/user/Desktop/file_one.txt\n"
     ]
    }
   ],
   "source": [
    "# 4\n",
    "import pathlib\n",
    "import datetime\n",
    "import os\n",
    "\n",
    "def remove_func(current_dir):\n",
    "    current_time = datetime.datetime.now()\n",
    "    \n",
    "    for files_and_dirs in os.listdir(current_dir):\n",
    "        \n",
    "        file_path = os.path.join(current_dir, files_and_dirs)\n",
    "        modification_time = datetime.datetime.fromtimestamp(os.path.getmtime(file_path))\n",
    "        age = current_time - modification_time\n",
    "        \n",
    "        if age.days > 2:\n",
    "            \n",
    "            if os.path.isfile(file_path):\n",
    "                os.remove(file_path)\n",
    "                print(f'Removed file: {file_path}')\n",
    "            elif os.path.isdir(file_path):\n",
    "                os.rmdir(file_path)\n",
    "                print(f'Removed directory: {file_path}')\n",
    "\n",
    "select_dir = input(\"Enter a directory that you want explore: /path/to/dir\")\n",
    "\n",
    "if pathlib.Path(select_dir).exists():\n",
    "\tremove_func(select_dir) \n",
    " \n",
    " \n",
    "#/home/user/Desktop"
   ]
  }
 ],
 "metadata": {
  "kernelspec": {
   "display_name": "Python 3",
   "language": "python",
   "name": "python3"
  },
  "language_info": {
   "codemirror_mode": {
    "name": "ipython",
    "version": 3
   },
   "file_extension": ".py",
   "mimetype": "text/x-python",
   "name": "python",
   "nbconvert_exporter": "python",
   "pygments_lexer": "ipython3",
   "version": "3.10.12"
  }
 },
 "nbformat": 4,
 "nbformat_minor": 2
}
