{
 "cells": [
  {
   "cell_type": "markdown",
   "metadata": {},
   "source": [
    "### Module 4: Functions and Modules\n",
    "- Defining functions (Объявление функций)\n",
    "- Function parameters and arguments (Параметры и аргументы функций)\n",
    "- Function return values (Возвращаемые значения функций)\n",
    "- Scopes and namespaces (Области видимости и пространства имен)\n",
    "- Importing modules and packages (Импорт модулей и пакетов)"
   ]
  },
  {
   "cell_type": "markdown",
   "metadata": {},
   "source": [
    "## Defining functions"
   ]
  },
  {
   "cell_type": "code",
   "execution_count": 3,
   "metadata": {},
   "outputs": [
    {
     "name": "stdout",
     "output_type": "stream",
     "text": [
      "This is a function\n"
     ]
    }
   ],
   "source": [
    "def func():\n",
    "    print(\"This is a function\")\n",
    "    \n",
    "func()"
   ]
  },
  {
   "cell_type": "code",
   "execution_count": 4,
   "metadata": {},
   "outputs": [
    {
     "data": {
      "text/plain": [
       "3"
      ]
     },
     "execution_count": 4,
     "metadata": {},
     "output_type": "execute_result"
    }
   ],
   "source": [
    "def func2(a, b):\n",
    "\treturn a + b\n",
    "\n",
    "func2(1, 2)"
   ]
  },
  {
   "cell_type": "code",
   "execution_count": 2,
   "metadata": {},
   "outputs": [
    {
     "name": "stdout",
     "output_type": "stream",
     "text": [
      "Value is: [1, 2, 3, 4, 5]\n"
     ]
    }
   ],
   "source": [
    "def func(value):\n",
    "    print(f'Value is: {value}')\n",
    "\n",
    "list_of_values = [1,2,3,4,5]\n",
    "func(list_of_values)"
   ]
  },
  {
   "cell_type": "code",
   "execution_count": null,
   "metadata": {},
   "outputs": [],
   "source": [
    "def func(*args): # *args is a tuple of arguments\n",
    "\tprint(args)\n",
    " \n",
    "func(1,2,3,4,5)"
   ]
  },
  {
   "cell_type": "code",
   "execution_count": 7,
   "metadata": {},
   "outputs": [
    {
     "name": "stdout",
     "output_type": "stream",
     "text": [
      "{'a': 1, 'b': 2, 'c': 3, 'd': 4, 'e': 5}\n"
     ]
    }
   ],
   "source": [
    "def func(**kwargs): # ** keyword arguments for dictionaries\n",
    "\tprint(kwargs)\n",
    " \n",
    "func(a=1,b=2,c=3,d=4,e=5)"
   ]
  },
  {
   "cell_type": "markdown",
   "metadata": {},
   "source": [
    "## Function parameters and arguments"
   ]
  },
  {
   "cell_type": "code",
   "execution_count": 9,
   "metadata": {},
   "outputs": [
    {
     "name": "stdout",
     "output_type": "stream",
     "text": [
      "1 2 3 4 5\n"
     ]
    }
   ],
   "source": [
    "def func(a, b, c, d=4, e=5):\n",
    "\tprint(a,b,c,d,e)\n",
    " \n",
    "func(1,2,3)"
   ]
  },
  {
   "cell_type": "code",
   "execution_count": 10,
   "metadata": {},
   "outputs": [
    {
     "name": "stdout",
     "output_type": "stream",
     "text": [
      "1 2 3 4 5\n",
      "(6, 7)\n"
     ]
    }
   ],
   "source": [
    "def func(a, b, c, *args, d=4, e=5):\n",
    "\tprint(a,b,c,d,e) # 1 2 3 4 5 parameters\n",
    "\tprint(args) # (6, 7) tuple because of *args and this is the rest of the parameters\n",
    " \n",
    "func(1,2,3,6,7)"
   ]
  },
  {
   "cell_type": "code",
   "execution_count": 1,
   "metadata": {},
   "outputs": [
    {
     "name": "stdout",
     "output_type": "stream",
     "text": [
      "Hi John\n"
     ]
    }
   ],
   "source": [
    "def func(name, greating='Hello'): # default value for greating is Hello but we can appoint another value for it.\n",
    "    print(f'{greating} {name}')\n",
    "    \n",
    "func('John', 'Hi') # argument for greating is Hi"
   ]
  },
  {
   "cell_type": "markdown",
   "metadata": {},
   "source": [
    "## Scopes and namespaces"
   ]
  },
  {
   "cell_type": "code",
   "execution_count": 2,
   "metadata": {},
   "outputs": [
    {
     "name": "stdout",
     "output_type": "stream",
     "text": [
      "10\n"
     ]
    }
   ],
   "source": [
    "# Global Scope and Global Namespace:\n",
    "global_var = 10  # Global variable\n",
    "\n",
    "def global_scope_example():\n",
    "    print(global_var)  # Accessing the global variable\n",
    "\n",
    "global_scope_example()"
   ]
  },
  {
   "cell_type": "code",
   "execution_count": null,
   "metadata": {},
   "outputs": [],
   "source": [
    "# Local Scope and Local Namespace:\n",
    "def local_scope_example():\n",
    "    local_var = 5  # Local variable\n",
    "    print(local_var)  # Accessing the local variable\n",
    "\n",
    "local_scope_example()\n",
    "\n",
    "# Attempting to access local_var outside the function will result in an error as it is in the local scope."
   ]
  },
  {
   "cell_type": "code",
   "execution_count": 3,
   "metadata": {},
   "outputs": [
    {
     "name": "stdout",
     "output_type": "stream",
     "text": [
      "10\n"
     ]
    }
   ],
   "source": [
    "# Enclosing Scope:\n",
    "def outer_function():\n",
    "    outer_var = 10  # Variable in the outer function\n",
    "\n",
    "    def inner_function():\n",
    "        inner_var = 5  # Variable in the inner function\n",
    "        print(outer_var)  # Accessing a variable from the enclosing scope\n",
    "\n",
    "    inner_function()\n",
    "\n",
    "outer_function()"
   ]
  },
  {
   "cell_type": "code",
   "execution_count": null,
   "metadata": {},
   "outputs": [],
   "source": [
    "# Built-in Scope:\n",
    "import math\n",
    "\n",
    "def built_in_scope_example():\n",
    "    print(math.sqrt(16))  # math is a built-in namespace\n",
    "\n",
    "built_in_scope_example()"
   ]
  },
  {
   "cell_type": "markdown",
   "metadata": {},
   "source": [
    "### Python has several types of namespaces, including:\n",
    "Global Namespace: \n",
    "\t* Contains names that are available at the module level. All variables and functions declared at the top level of a module are in the global namespace.\n",
    "Local Namespace: \n",
    "\t* Created inside functions and contains names that are only accessible within the function.\n",
    "Namespaces within classes: \n",
    "\t* Classes also have their own namespaces for attributes and methods."
   ]
  },
  {
   "cell_type": "markdown",
   "metadata": {},
   "source": [
    "## Importing modules and packages"
   ]
  },
  {
   "cell_type": "code",
   "execution_count": null,
   "metadata": {},
   "outputs": [],
   "source": [
    "# Import Modules syntax:\n",
    "import math # import math module\n",
    "from math import sqrt # import only sqrt function from math module\n",
    "from math import sqrt as sq # import sqrt function from math module and rename it as sq"
   ]
  },
  {
   "cell_type": "code",
   "execution_count": null,
   "metadata": {},
   "outputs": [],
   "source": [
    "# Import packages syntax:\n",
    "# packages are folders that contain modules and other packages inside them.\n",
    "\n",
    "# Example\n",
    "# Structure of a package\n",
    "data_processing/\n",
    "├── data_io.py\n",
    "├── data_analysis.py\n",
    "├── data_visualization.py\n",
    "\n",
    "# data_io.py\n",
    "def read_data(file_path):\n",
    "    with open(file_path, 'r') as file:\n",
    "        data = file.read()\n",
    "    return data\n",
    "\n",
    "def write_data(file_path, data):\n",
    "    with open(file_path, 'w') as file:\n",
    "        file.write(data)\n",
    "             \n",
    "# data_analysis.py\n",
    "def analyze_data(data):\n",
    "    # Простой пример анализа данных\n",
    "    data_length = len(data)\n",
    "    data_words = data.split()\n",
    "    word_count = len(data_words)\n",
    "    return data_length, word_count\n",
    "\n",
    "\n",
    "# data_visualization.py\n",
    "import matplotlib.pyplot as plt\n",
    "\n",
    "def visualize_data(data):\n",
    "    # Простой пример визуализации данных\n",
    "    word_counts = data.split()\n",
    "    plt.hist(word_counts, bins=20)\n",
    "    plt.xlabel(\"Длина слова\")\n",
    "    plt.ylabel(\"Частота\")\n",
    "    plt.title(\"Гистограмма длин слов\")\n",
    "    plt.show()\n",
    "\n",
    "\n",
    "# main.py\n",
    "from data_processing import data_io, data_analysis, data_visualization\n",
    "\n",
    "# Прочитаем данные из файла\n",
    "data = data_io.read_data(\"sample.txt\")\n",
    "\n",
    "# Выполним анализ данных\n",
    "data_length, word_count = data_analysis.analyze_data(data)\n",
    "print(\"Длина данных:\", data_length)\n",
    "print(\"Количество слов:\", word_count)\n",
    "\n",
    "# Визуализируем данные\n",
    "data_visualization.visualize_data(data)"
   ]
  },
  {
   "cell_type": "markdown",
   "metadata": {},
   "source": [
    "### Tasks\n",
    "**Practical Assignments:**\n",
    "1. Define a Python function that calculates the factorial of a given number and call it with an example number.\n",
    "2. Create a module with a function that calculates the square of a number. Import this module and use the function in a separate Python script.\n",
    "3. Write a Python function that accepts a list of numbers and returns the sum of all the even numbers in the list."
   ]
  },
  {
   "cell_type": "code",
   "execution_count": 17,
   "metadata": {},
   "outputs": [
    {
     "name": "stdout",
     "output_type": "stream",
     "text": [
      "Error\n"
     ]
    }
   ],
   "source": [
    "# 1\n",
    "# Solution:\n",
    "from math import factorial as fact\n",
    "\n",
    "def factorial(value):\n",
    "    if value >= 0:\n",
    "        return fact(value)\n",
    "    else:\n",
    "        return \"Error\"\n",
    "    \n",
    "num = int(input(\"Enter a number: \"))\n",
    "print(factorial(num))\n"
   ]
  },
  {
   "cell_type": "code",
   "execution_count": null,
   "metadata": {},
   "outputs": [],
   "source": [
    "# 1\n",
    "### Solution 2:\n",
    "def calculate_factorial(n):\n",
    "    if n < 0:\n",
    "        return \"Error: Factorial is not defined for negative numbers\"\n",
    "    elif n == 0:\n",
    "        return 1\n",
    "    else:\n",
    "        result = 1\n",
    "        for i in range(1, n + 1):\n",
    "            result *= i\n",
    "        return result\n",
    "\n",
    "# Пример вызова функции с числом\n",
    "example_number = 5\n",
    "result = calculate_factorial(example_number)\n",
    "print(f\"The factorial of {example_number} is {result}\")"
   ]
  },
  {
   "cell_type": "code",
   "execution_count": null,
   "metadata": {},
   "outputs": [],
   "source": [
    "# 2\n",
    "# directory \"module\" > square.py\n",
    "# square.py \n",
    "\n",
    "def calc_square(value):\n",
    "    return value ** 2\n",
    "\n",
    "# main.py\n",
    "from module import square \n",
    "\n",
    "print(square.calc_square(5))"
   ]
  },
  {
   "cell_type": "code",
   "execution_count": 65,
   "metadata": {},
   "outputs": [
    {
     "name": "stdout",
     "output_type": "stream",
     "text": [
      "Sum of equal numbers: 6\n"
     ]
    }
   ],
   "source": [
    "# 3\n",
    "def get_sum_of_list(num_list):\n",
    "    summ = 0\n",
    "    for j in num_list:\n",
    "        if j % 2 == 0:\n",
    "            summ += j\n",
    "    print(f'Sum of equal numbers: {summ}')\n",
    "   \n",
    "\t\t\n",
    "i = 1\n",
    "list_of_values = []\n",
    "while i < 6:\n",
    "    nums = int(input(f'Enter {i} number: '))\n",
    "    i += 1\n",
    "    list_of_values.append(nums)\n",
    "get_sum_of_list(list_of_values)"
   ]
  }
 ],
 "metadata": {
  "kernelspec": {
   "display_name": "Python 3",
   "language": "python",
   "name": "python3"
  },
  "language_info": {
   "codemirror_mode": {
    "name": "ipython",
    "version": 3
   },
   "file_extension": ".py",
   "mimetype": "text/x-python",
   "name": "python",
   "nbconvert_exporter": "python",
   "pygments_lexer": "ipython3",
   "version": "3.10.12"
  }
 },
 "nbformat": 4,
 "nbformat_minor": 2
}
