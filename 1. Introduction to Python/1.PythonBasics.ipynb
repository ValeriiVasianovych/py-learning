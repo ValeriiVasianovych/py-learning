{
 "cells": [
  {
   "cell_type": "markdown",
   "metadata": {},
   "source": [
    "### Module 1: Python Basics\n",
    "- Variables and assignment (Переменные и присваивание)\n",
    "- Data types: int, float, str (Типы данных: int, float, str)\n",
    "- Basic operations and expressions (Базовые операции и выражения)\n",
    "- Input and output (Ввод и вывод)\n",
    "- Comments (Комментарии)"
   ]
  },
  {
   "cell_type": "markdown",
   "metadata": {},
   "source": [
    "### Variables and assignment\n",
    "\n",
    "Correct variable names:\n",
    "    value;\n",
    "    value_of_something;\n",
    "    valueOfSomething;\n",
    "    value_of_something_1;\n",
    "    value1;\n",
    "\n",
    "Incorrect variable names:\n",
    "    1value;\n",
    "    value of so\n",
    "    value-of-something;\n",
    "    value of something;\n",
    "    value@of@something;\n",
    "    value.of.something;\n",
    "\n",
    "age = 5\n",
    "weight = 60.5\n",
    "kind = True"
   ]
  },
  {
   "cell_type": "code",
   "execution_count": 2,
   "metadata": {},
   "outputs": [
    {
     "name": "stdout",
     "output_type": "stream",
     "text": [
      "<class 'int'>\n",
      "<class 'str'>\n",
      "True\n",
      "False\n"
     ]
    }
   ],
   "source": [
    "# Checking type of variable\n",
    "a = 10 \n",
    "b = \"name\"\n",
    "\n",
    "print(type(a))\n",
    "print(type(b))\n",
    "\n",
    "# Checking is variable is of specific type\n",
    "print(isinstance(a, int))\n",
    "print(isinstance(b, int))"
   ]
  },
  {
   "cell_type": "markdown",
   "metadata": {},
   "source": [
    "### Input and output"
   ]
  },
  {
   "cell_type": "code",
   "execution_count": null,
   "metadata": {},
   "outputs": [],
   "source": [
    "# Input with string\n",
    "name = input(\"Enter your name: \")\n",
    "print(\"Hello\", name)"
   ]
  },
  {
   "cell_type": "code",
   "execution_count": null,
   "metadata": {},
   "outputs": [],
   "source": [
    "# Input with float\n",
    "a = float(input(\"Enter a: \"))\n",
    "b = float(input(\"Enter b: \"))\n",
    "result = a + b\n",
    "print(\"Result is\", result)"
   ]
  },
  {
   "cell_type": "code",
   "execution_count": null,
   "metadata": {},
   "outputs": [],
   "source": [
    "# Input with number and string\n",
    "name = input(\"Enter your name: \")\n",
    "age = int(input(\"Enter your age: \"))\n",
    "print(f'Hello {name}, your age is {age}')\n",
    "print(\"Hello\", name, \"your age is\", age)\n",
    "print(\"Hello \" + name + \" your age is \" + str(age))"
   ]
  },
  {
   "cell_type": "code",
   "execution_count": null,
   "metadata": {},
   "outputs": [],
   "source": [
    "# Example:\n",
    "a = int(input(\"Enter a: \"))\n",
    "b = int(input(\"Enter b: \"))\n",
    "result = a + b\n",
    "print(f'{a} + {b} = {result}')"
   ]
  },
  {
   "cell_type": "markdown",
   "metadata": {},
   "source": [
    "### Basic operations and expressions"
   ]
  },
  {
   "cell_type": "code",
   "execution_count": null,
   "metadata": {},
   "outputs": [],
   "source": [
    "# Basic operations and expressions\n",
    "a = 5\n",
    "b = 10\n",
    "\n",
    "# In Python, there are 7 arithmetic operators:\n",
    "a + b # Addition\n",
    "a - b # Subtraction\n",
    "a * b # Multiplication\n",
    "a / b # Division (float) 5 / 10 = 0.5\n",
    "a // b # Floor Division (integer) 5 // 10 = 0\n",
    "a % b # Modulus (remainder) 5 % 10 = 5. 10 % 5 = 0. Explanation: 10 / 5 = 2, remainder 0\n",
    "a ** b # Exponentiation (power) 5 ** 10 = 9765625"
   ]
  },
  {
   "cell_type": "markdown",
   "metadata": {},
   "source": [
    "### Operator precedence\n",
    "1. Parentheses ()\n",
    "2. Exponentiation **\n",
    "3. Multiplication *, Division /, Floor Division //, Modulus %\n",
    "4. Addition +, Subtraction -"
   ]
  },
  {
   "cell_type": "code",
   "execution_count": null,
   "metadata": {},
   "outputs": [],
   "source": [
    "\n",
    "# In Python, there are 3 comparison operators:\n",
    "a = 10\n",
    "b = 5\n",
    "\n",
    "a and b # True if both a and b are True \n",
    "a or b # True if either a or b is True\n",
    "not a # True if a is False, False if a is True\n",
    "\n",
    "# In Python, there are 6 comparison operators:\n",
    "a == b # Equal\n",
    "a != b # Not equal\n",
    "a > b # Greater than\n",
    "a < b # Less than\n",
    "a >= b # Greater than or equal to\n",
    "a <= b # Less than or equal to\n",
    "\n",
    "# Betwise operators\n",
    "a & b # Bitwise AND 10 & 5 = 0 Because 10 = 1010 and 5 = 0101\n",
    "a | b # Bitwise OR 10 | 5 = 15 Because 10 = 1010 and 5 = 0101\n",
    "a ^ b # Bitwise XOR 10 ^ 5 = 15 Because 10 = 1010 and 5 = 0101\n",
    "~a # Bitwise NOT -11 Because 10 = 1010 and ~10 = 0101"
   ]
  },
  {
   "cell_type": "markdown",
   "metadata": {},
   "source": [
    "### Input and output"
   ]
  },
  {
   "cell_type": "code",
   "execution_count": null,
   "metadata": {},
   "outputs": [],
   "source": [
    "# Input with different types\n",
    "int_value = int(input(\"Enter value: \"))\n",
    "float_value = float(input(\"Enter value: \"))\n",
    "string_value = input(\"Enter value: \")\n",
    "\n",
    "# Output\n",
    "print(f'Integer value is {int_value}')\n",
    "print(\"Float value is\", float_value)\n",
    "print(\"String value is \" + string_value)\n",
    "\n",
    "# Special characters\n",
    "print(\"Hello World! \\n\") # \\n is used for new line\n",
    "print(\"Hello World! \\t\") # \\t is used for tab\n",
    "print(\"Hello World! \\b\") # \\b is used for backspace\n",
    "print(\"Hello World\", end=\"\\r\") # \\r is used for carriage return (cursor goes to start of line and clears the line)\n"
   ]
  },
  {
   "cell_type": "markdown",
   "metadata": {},
   "source": [
    "### Comments"
   ]
  },
  {
   "cell_type": "code",
   "execution_count": null,
   "metadata": {},
   "outputs": [],
   "source": [
    "# Single-line comment\n",
    "\n",
    "\"\"\"\n",
    "Multi\n",
    "line\n",
    "comment\n",
    "\"\"\""
   ]
  },
  {
   "cell_type": "markdown",
   "metadata": {},
   "source": [
    "### Tasks\n",
    "**Practical Assignments:**\n",
    "1. Create a Python program that takes user input for their name and greets them using that input.\n",
    "2. Calculate the area of a circle with a given radius and print the result.\n",
    "3. Write a Python program that takes a sentence as input and counts the number of words in it."
   ]
  },
  {
   "cell_type": "code",
   "execution_count": 1,
   "metadata": {},
   "outputs": [
    {
     "name": "stdout",
     "output_type": "stream",
     "text": [
      "Hello, John!\n"
     ]
    }
   ],
   "source": [
    "# 1\n",
    "name = \"John\"\n",
    "print(f'Hello, {name}!') # Hello, John!"
   ]
  },
  {
   "cell_type": "code",
   "execution_count": 3,
   "metadata": {},
   "outputs": [
    {
     "name": "stdout",
     "output_type": "stream",
     "text": [
      "Area of circle is 184.33\n"
     ]
    }
   ],
   "source": [
    "# 2\n",
    "from math import pi as PI\n",
    "value = float(input(\"Enter radius: \"))\n",
    "print(f'Area of circle is {round(PI * (value ** 2), 2)}')"
   ]
  },
  {
   "cell_type": "code",
   "execution_count": 17,
   "metadata": {},
   "outputs": [
    {
     "name": "stdout",
     "output_type": "stream",
     "text": [
      "This: 2\n",
      "is: 1\n",
      "a: 1\n",
      "string.: 1\n",
      "This: 2\n",
      "string: 2\n",
      "about: 1\n",
      "string: 2\n"
     ]
    }
   ],
   "source": [
    "# 3\n",
    "str = \"This is a string. This string about string\"\n",
    "words = str.split()\n",
    "for i in words:\n",
    "\tprint(f'{i}: {words.count(i)}')"
   ]
  }
 ],
 "metadata": {
  "kernelspec": {
   "display_name": "Python 3 (ipykernel)",
   "language": "python",
   "name": "python3"
  },
  "language_info": {
   "codemirror_mode": {
    "name": "ipython",
    "version": 3
   },
   "file_extension": ".py",
   "mimetype": "text/x-python",
   "name": "python",
   "nbconvert_exporter": "python",
   "pygments_lexer": "ipython3",
   "version": "3.10.12"
  }
 },
 "nbformat": 4,
 "nbformat_minor": 4
}
