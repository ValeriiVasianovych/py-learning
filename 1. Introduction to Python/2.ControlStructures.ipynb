{
 "cells": [
  {
   "cell_type": "markdown",
   "metadata": {},
   "source": [
    "### Module 2: Control Structures\n",
    "- Conditional statements (if, elif, else) (Условные операторы)\n",
    "- Loops (while, for) (Циклы)\n",
    "- Iteration and looping techniques (Итерация и техники циклов)\n",
    "- Break and continue statements (Операторы break и continue)\n",
    "- Error handling (try, except, else, finally) (Обработка ошибок)"
   ]
  },
  {
   "cell_type": "markdown",
   "metadata": {},
   "source": [
    "### Conditional statements (if, elif, else) "
   ]
  },
  {
   "cell_type": "code",
   "execution_count": 1,
   "metadata": {},
   "outputs": [
    {
     "name": "stdout",
     "output_type": "stream",
     "text": [
      "Equal to 10\n"
     ]
    }
   ],
   "source": [
    "# if, elif, else:\n",
    "num = 10\n",
    "\n",
    "if num > 10:\n",
    "    print(\"Greater than 10\")\n",
    "elif num < 10:\n",
    "    print(\"Less than 10\")\n",
    "else:\n",
    "    print(\"Equal to 10\")"
   ]
  },
  {
   "cell_type": "code",
   "execution_count": 2,
   "metadata": {},
   "outputs": [
    {
     "name": "stdout",
     "output_type": "stream",
     "text": [
      "Less than 10\n"
     ]
    }
   ],
   "source": [
    "# Ternary operator:\n",
    "num = 10\n",
    "print(\"Greater than 10\") if num > 10 else print(\"Less than 10\")"
   ]
  },
  {
   "cell_type": "code",
   "execution_count": 3,
   "metadata": {},
   "outputs": [
    {
     "name": "stdout",
     "output_type": "stream",
     "text": [
      "Equal to 10\n"
     ]
    }
   ],
   "source": [
    "# Long ternary operator:\n",
    "num = 10\n",
    "\n",
    "print(\"Greater than 10\") if num > 10 else print(\"Less than 10\") if num < 10 else print(\"Equal to 10\")"
   ]
  },
  {
   "cell_type": "code",
   "execution_count": 4,
   "metadata": {},
   "outputs": [
    {
     "name": "stdout",
     "output_type": "stream",
     "text": [
      "True\n"
     ]
    }
   ],
   "source": [
    "# Condition in condition:\n",
    "value = True\n",
    "\n",
    "if value == True:\n",
    "    if 2 > 1:\n",
    "        print(\"True\")\n",
    "    else:\n",
    "        print(\"False\")\n",
    "else:\n",
    "\tprint(\"False\")\n",
    "    "
   ]
  },
  {
   "cell_type": "markdown",
   "metadata": {},
   "source": [
    "### Loops (while, for)"
   ]
  },
  {
   "cell_type": "code",
   "execution_count": null,
   "metadata": {},
   "outputs": [],
   "source": [
    "# While loop:\n",
    "i = 1\n",
    "while i < 11:\n",
    "    print(i) # 1, 2, 3, 4, 5, 6, 7, 8, 9, 10\n",
    "    i += 1"
   ]
  },
  {
   "cell_type": "code",
   "execution_count": null,
   "metadata": {},
   "outputs": [],
   "source": [
    "# for loop:\n",
    "for i in range(1, 11):\n",
    "\tprint(i) # 1, 2, 3, 4, 5, 6, 7, 8, 9, 10"
   ]
  },
  {
   "cell_type": "code",
   "execution_count": null,
   "metadata": {},
   "outputs": [],
   "source": [
    "# count of iterations:\n",
    "arr = [20, 30, 40, 50, 60]\n",
    "for i in range(len(arr)):\n",
    "    print(i) # 0, 1, 2, 3, 4"
   ]
  },
  {
   "cell_type": "code",
   "execution_count": null,
   "metadata": {},
   "outputs": [],
   "source": [
    "# elements of list:\n",
    "arr = [20, 30, 40, 50, 60]\n",
    "for i in range(len(arr)):\n",
    "    print(arr[i]) # 20, 30, 40, 50, 60"
   ]
  },
  {
   "cell_type": "code",
   "execution_count": null,
   "metadata": {},
   "outputs": [],
   "source": [
    "# 3 times iteration:\n",
    "for i in range(3):\n",
    "    print(\"Comlete iteration. \")"
   ]
  },
  {
   "cell_type": "code",
   "execution_count": 1,
   "metadata": {},
   "outputs": [
    {
     "name": "stdout",
     "output_type": "stream",
     "text": [
      "[1, 2, 3, 4, 5, 6, 7, 8, 9, 10]\n"
     ]
    }
   ],
   "source": [
    "# Range - start, stop, step:\n",
    "range(1, 11) # 1, 2, 3, 4, 5, 6, 7, 8, 9, 10\n",
    "range(2, 7) # 2, 3, 4, 5, 6\n",
    "range(1, 11, 2) # 1, 3, 5, 7, 9\n",
    "\n",
    "# Using range for creating a list:\n",
    "new_list = list(range(1, 11))\n",
    "print(new_list)"
   ]
  },
  {
   "cell_type": "markdown",
   "metadata": {},
   "source": [
    "### Iteration and looping techniques"
   ]
  },
  {
   "cell_type": "code",
   "execution_count": null,
   "metadata": {},
   "outputs": [],
   "source": [
    "# Iteration and looping techniques\n",
    "\n",
    "arr = [10, 20, 30, 40, 50]\n",
    "for i in range(len(arr)):\n",
    "    print(arr[i] ** 3) # 1000, 8000, 27000, 64000, 125000"
   ]
  },
  {
   "cell_type": "code",
   "execution_count": null,
   "metadata": {},
   "outputs": [],
   "source": [
    "# Using enumerate:\n",
    "# enumerate() method adds counter to an iterable and returns it (the enumerate object).\n",
    "\n",
    "# Example 1:\n",
    "arr = [10, 20, 30, 40, 50]\n",
    "for i, j in enumerate(arr):\n",
    "\tprint(i, j) # 0 10, 1 20, 2 30, 3 40, 4 50\n",
    " \n",
    "# Example 2:\n",
    "arr = [10, 20, 30, 40, 50]\n",
    "for i, j in enumerate(arr, 1):\n",
    "\tprint(i, j) # 1 10, 2 20, 3 30, 4 40, 5 50\n",
    " \n",
    "# Example 3:\n",
    "my_list = ['apple', 'banana', 'cherry']\n",
    "for index, item in enumerate(my_list):\n",
    "    print(f'Index {index}: {item}')\n"
   ]
  },
  {
   "cell_type": "code",
   "execution_count": 1,
   "metadata": {},
   "outputs": [
    {
     "name": "stdout",
     "output_type": "stream",
     "text": [
      "Key: a, Value: 1\n",
      "Key: b, Value: 2\n",
      "Key: c, Value: 3\n"
     ]
    }
   ],
   "source": [
    "# Using iteration in dictionaries:\n",
    "\n",
    "my_dict = {'a': 1, 'b': 2, 'c': 3}\n",
    "for key, value in my_dict.items():\n",
    "    print(f'Key: {key}, Value: {value}')"
   ]
  },
  {
   "cell_type": "code",
   "execution_count": null,
   "metadata": {},
   "outputs": [],
   "source": [
    "# Using lists comprehensions:\n",
    "# do something for each element in the list\n",
    "\n",
    "my_list = [1, 2, 3, 4, 5]\n",
    "squared_list = [x**2 for x in my_list]\n",
    "print(squared_list)\n"
   ]
  },
  {
   "cell_type": "markdown",
   "metadata": {},
   "source": [
    "### Break and continue statements"
   ]
  },
  {
   "cell_type": "code",
   "execution_count": 5,
   "metadata": {},
   "outputs": [
    {
     "name": "stdout",
     "output_type": "stream",
     "text": [
      "10\n",
      "20\n"
     ]
    }
   ],
   "source": [
    "# Break - stop the loop and exit:\n",
    "arr = [10, 20, 30, 40, 50]\n",
    "for i in range(len(arr)):\n",
    "\tif arr[i] == 30:\n",
    "\t\tbreak\n",
    "\tprint(arr[i]) # 10, 20"
   ]
  },
  {
   "cell_type": "code",
   "execution_count": null,
   "metadata": {},
   "outputs": [],
   "source": [
    "# Continue - stop the current iteration and continue with the next:\n",
    "arr = [10, 20, 30, 40, 50]\n",
    "for i in range(len(arr)):\n",
    "\tif arr[i] == 30: # 30 will not be printed\n",
    "\t\tcontinue\n",
    "\tprint(arr[i]) # 10, 20, 40, 50"
   ]
  },
  {
   "cell_type": "markdown",
   "metadata": {},
   "source": [
    "### Error handling (try, except, else, finaly)"
   ]
  },
  {
   "cell_type": "code",
   "execution_count": null,
   "metadata": {},
   "outputs": [],
   "source": [
    "# try, except, else, finally:\n",
    "# Example 1:\n",
    "\n",
    "try: # try to execute this code\n",
    "    file = open(\"example.txt\", \"r\") # open file in read mode\n",
    "    data = file.read()\n",
    "except FileNotFoundError: # executed if exception\n",
    "    print(\"File not found\") # if file not found\n",
    "else: # executed if no exception\n",
    "    print(\"Content of the file: \", data) # if file found\n",
    "finally: # always executed\n",
    "    file.close()\n",
    "\n",
    "\"\"\"   \n",
    "try блок:\n",
    "\n",
    "Открывается файл \"example.txt\" для чтения с помощью функции open().\n",
    "Содержимое файла считывается и сохраняется в переменной data.\n",
    "except блок:\n",
    "\n",
    "В этом блоке указан тип исключения FileNotFoundError, который возникает, если файл \"example.txt\" не существует.\n",
    "Если исключение типа FileNotFoundError возникло в блоке try, код внутри except блока будет выполнен.\n",
    "В данном случае, код выводит сообщение \"Файл не найден\".\n",
    "else блок:\n",
    "\n",
    "Этот блок будет выполнен только в том случае, если в блоке try не возникло исключений.\n",
    "Здесь выводится содержимое файла, которое было считано в переменной data.\n",
    "finally блок:\n",
    "\n",
    "Блок finally выполняется в любом случае, независимо от того, было ли исключение или нет. Это гарантирует, что ресурсы будут корректно освобождены.\n",
    "В данном случае, файл \"example.txt\" закрывается с помощью file.close().\n",
    "\"\"\"\n"
   ]
  },
  {
   "cell_type": "markdown",
   "metadata": {},
   "source": [
    "### Tasks\n",
    "**Practical Assignments:**\n",
    "\t1. Write a Python program that checks whether a given number is even or odd and prints the result.\n",
    "\t2. Create a program that prints the first 10 natural numbers using a while loop.\n",
    "\t3. Use a for loop to iterate through a list of names and print a greeting for each name, but skip names that start with the letter 'A'."
   ]
  },
  {
   "cell_type": "code",
   "execution_count": 17,
   "metadata": {},
   "outputs": [
    {
     "name": "stdout",
     "output_type": "stream",
     "text": [
      "Number 6 is even\n",
      "You have result of program.\n"
     ]
    }
   ],
   "source": [
    "# 1\n",
    "try:\n",
    "\tvalue = int(input(\"Enter a number\"))\n",
    "\tif value % 2 == 0:\n",
    "\t\tprint(f'Number {value} is even')\n",
    "\telse:\n",
    "\t\tprint(f'Number {value} is odd')\n",
    "except ValueError:\n",
    "\tprint(\"It is not a number\")\n",
    "finally:\n",
    "    print(\"You have result of program.\")"
   ]
  },
  {
   "cell_type": "code",
   "execution_count": null,
   "metadata": {},
   "outputs": [],
   "source": [
    "# 2\n",
    "# Variation 1:\n",
    "i = 1\n",
    "while i < 11:\n",
    "    print(i) # 1, 2, 3, 4, 5, 6, 7, 8, 9, 10\n",
    "    i += 1\n",
    "\n",
    "# Variation 2:\n",
    "arr = []\n",
    "i = -10\n",
    "while i < 11:\n",
    "    arr.append(i)\n",
    "    i += 1\n",
    "print(arr) # [-10, -9, -8, -7, -6, -5, -4, -3, -2, -1, 0, 1, 2, 3, 4, 5, 6, 7, 8, 9, 10]"
   ]
  },
  {
   "cell_type": "code",
   "execution_count": 49,
   "metadata": {},
   "outputs": [
    {
     "name": "stdout",
     "output_type": "stream",
     "text": [
      "Names which starts with A: anna\n",
      "Hello, vika!\n",
      "Hello, sara!\n",
      "Hello, kate!\n",
      "Names which starts with A: alice\n"
     ]
    }
   ],
   "source": [
    "# 3\n",
    "name_list = [\"Anna\", \"Vika\", \"Sara\", \"Kate\", \"Alice\"]\n",
    "\n",
    "name_list = [i.lower() for i in name_list]\n",
    "for j in range(len(name_list)):\n",
    "    if name_list[j][0] != 'a':\n",
    "        print(f'Hello, {name_list[j]}!')\n",
    "    else:\n",
    "        print(f'Names which starts with A: {name_list[j]}')\n",
    "    "
   ]
  }
 ],
 "metadata": {
  "kernelspec": {
   "display_name": "Python 3",
   "language": "python",
   "name": "python3"
  },
  "language_info": {
   "codemirror_mode": {
    "name": "ipython",
    "version": 3
   },
   "file_extension": ".py",
   "mimetype": "text/x-python",
   "name": "python",
   "nbconvert_exporter": "python",
   "pygments_lexer": "ipython3",
   "version": "3.10.12"
  }
 },
 "nbformat": 4,
 "nbformat_minor": 2
}
