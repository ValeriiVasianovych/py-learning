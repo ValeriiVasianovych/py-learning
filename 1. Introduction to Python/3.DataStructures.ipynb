{
 "cells": [
  {
   "cell_type": "markdown",
   "metadata": {},
   "source": [
    "### Module 3: Data Structures\n",
    "- Lists, tuples, and dictionaries (Списки, кортежи и словари)\n",
    "- List comprehensions (Списковые включения)\n",
    "- Sets and frozensets (Множества)\n",
    "- Working with sequences (range, enumerate, zip) (Работа с последовательностями)\n",
    "- Built-in data structures (collections) (Встроенные структуры данных)"
   ]
  },
  {
   "cell_type": "markdown",
   "metadata": {
    "vscode": {
     "languageId": "plaintext"
    }
   },
   "source": [
    "## Lists, tuples, and dictionaries"
   ]
  },
  {
   "cell_type": "markdown",
   "metadata": {},
   "source": [
    "### Metrhods of List\n",
    "1. append() - Adds an element at the end of the list\n",
    "2. clear() - Removes all the elements from the list\n",
    "3. copy() - Returns a copy of the list\n",
    "4. count() - Returns the number of elements with the specified value\n",
    "5. extend() - Add the elements of a list (or any iterable), to the end of the current list\n",
    "6. index() - Returns the index of the first element with the specified value\n",
    "7. insert() - Adds an element at the specified position\n",
    "8. pop() - Removes the element at the specified position\n",
    "9. remove() - Removes the item with the specified value\n",
    "10. reverse() - Reverses the order of the list\n",
    "11. sort() - Sorts the list\n",
    "\n",
    "### Functions of List\n",
    "1. all() - Returns True if all items in an iterable object are true\n",
    "2. any() - Returns True if any item in an iterable object is true\n",
    "3. enumerate() - Takes a collection (e.g. a tuple) and returns it as an enumerate object\n",
    "4. len() - Returns the length of an object\n",
    "5. list() - Returns a list\n",
    "6. max() - Returns the largest item in an iterable\n",
    "7. min() - Returns the smallest item in an iterable\n",
    "8. sorted() - Returns a sorted list\n",
    "9. sum() - Sums the items of an iterable\n",
    "\n",
    "\n",
    "### Metrhods of Tuple\n",
    "1. count() - Returns the number of times a specified value occurs in a tuple\n",
    "2. index() - Searches the tuple for a specified value and returns the position of where it was found\n",
    "\n",
    "### Metrhods of Dictionary\n",
    "1. clear() - Removes all the elements from the dictionary\n",
    "2. copy() - Returns a copy of the dictionary\n",
    "3. fromkeys() - Returns a dictionary with the specified keys and value\n",
    "4. get() - Returns the value of the specified key\n",
    "5. items() - Returns a list containing a tuple for each key value pair\n",
    "6. keys() - Returns a list containing the dictionary's keys\n",
    "7. pop() - Removes the element with the specified key\n",
    "8. popitem() - Removes the last inserted key-value pair\n",
    "9. setdefault() - Returns the value of the specified key. If the key does not exist: insert the key, with the specified value\n",
    "10. update() - Updates the dictionary with the specified key-value pairs\n",
    "11. values() - Returns a list of all the values in the dictionary"
   ]
  },
  {
   "cell_type": "markdown",
   "metadata": {},
   "source": [
    "### Lists\n",
    "- Lists are mutable. \n",
    "- They can be changed.\n",
    "- Lists are enclosed in [ ].\n",
    "- Each element in a list is separated by a comma."
   ]
  },
  {
   "cell_type": "code",
   "execution_count": null,
   "metadata": {},
   "outputs": [],
   "source": [
    "string_list = ['abcd', 786, 2.23, 'john', 70.2] # list of mixed data types\n",
    "\n",
    "string_list[2] = 1000 # update list ['abcd', 786, 1000, 'john', 70.2]\n",
    "string_list.append(1000) # add to list ['abcd', 786, 2.23, 'john', 70.2, 1000]\n",
    "string_list.remove(786) # remove from list ['abcd', 1000, 2.23, 'john', 70.2, 1000]\n",
    "string_list.insert(2, 1000) # insert into list ['abcd', 786, 1000, 2.23, 'john', 70.2, 1000]\n",
    "string_list.pop(2) # remove from list ['abcd', 786, 2.23, 'john', 70.2, 1000]\n",
    "string_list.reverse() # reverse list [1000, 70.2, 'john', 2.23, 786, 'abcd']\n",
    "string_list.sort() # sort list [2.23, 70.2, 786, 1000, 'abcd', 'john']\n",
    "string_list.count(1000) # count number of occurrences of 1000 in list 1\n",
    "string_list.index(1000) # find index of 1000 in list 3"
   ]
  },
  {
   "cell_type": "markdown",
   "metadata": {},
   "source": [
    "### Tuples\n",
    "- Tuple is a collection of Python objects much like a list.\n",
    "- They are immutable.\n",
    "- Tuples are enclosed in ( ).\n",
    "- The main difference between lists and tuples are − \n",
    "- Lists are enclosed in [ ] and their elements and size can be changed, while tuples are enclosed in ( ) and cannot be updated."
   ]
  },
  {
   "cell_type": "code",
   "execution_count": null,
   "metadata": {},
   "outputs": [],
   "source": [
    "tuple = ('abcd', 786, 2.23, 'john', 70.2) # tuple of mixed data types\n",
    "\n",
    "tuple.count(1000) # count number of occurrences of 1000 in tuple 1\n",
    "tuple.index(1000) # find index of 1000 in tuple 3"
   ]
  },
  {
   "cell_type": "markdown",
   "metadata": {},
   "source": [
    "### Dictionaries\n",
    "- Dictionary is an unordered set of key: value pairs.\n",
    "- It is enclosed by curly braces { }.\n",
    "- Each pair is separated by a comma ,\n",
    "- The key and value can be of any type.\n",
    "- Dictionary is mutable.\n",
    "- Dictionary is indexed by keys.\n",
    "- Keys are unique.\n",
    "- Values can be duplicated."
   ]
  },
  {
   "cell_type": "code",
   "execution_count": null,
   "metadata": {},
   "outputs": [],
   "source": [
    "user_dict = {'name': 'john', 'code': 6734, 'dept': 'sales'} # dictionary of mixed data types\n",
    "\n",
    "print(user_dict['name']) # print value for key 'name' john\n",
    "print(user_dict.keys()) # print all keys ['name', 'code', 'dept']\n",
    "print(user_dict.values()) # print all values ['john', 6734, 'sales']\n",
    "print(user_dict.items()) # print all items [('name', 'john'), ('code', 6734), ('dept', 'sales')]\n",
    "user_dict['name'] = 'john smith' # update value for key 'name' john smith {'name': 'john smith', 'code': 6734, 'dept': 'sales'}\n",
    "user_dict['address'] = 'downtown' # add new key 'address' with value 'downtown' {'name': 'john smith', 'code': 6734, 'dept': 'sales', 'address': 'downtown'}\n",
    "user_dict.pop('address') # remove key 'address' {'name': 'john smith', 'code': 6734, 'dept': 'sales'}\n",
    "user_dict.clear() # remove all items {}\n",
    "del user_dict # delete dictionary\n",
    "user_dict.add('name', 'john') # add new key 'name' with value 'john' {'name': 'john'}"
   ]
  },
  {
   "cell_type": "markdown",
   "metadata": {},
   "source": [
    "## List comprehensions\n",
    "List comprehensions provide a concise way to create lists.\n",
    "List comprehensions are used for creating new lists from other iterables like tuples, strings, arrays, lists, etc.\n",
    "\n",
    "syntax: [expression for item in list]"
   ]
  },
  {
   "cell_type": "code",
   "execution_count": null,
   "metadata": {},
   "outputs": [],
   "source": [
    "# Manipulating Lists by list comprehension\n",
    "num_list = [1, 2, 3, 4, 5] # list of numbers\n",
    "list_comperhension = [i**2 for i in num_list] # list comprehension [1, 4, 9, 16, 25]\n",
    "\n",
    "# Creating a list by list comprehension\n",
    "list_comperhension = [i for i in range(10)] # list comprehension [0, 1, 2, 3, 4, 5, 6, 7, 8, 9]\n",
    "\n",
    "# Creating a list by list comprehension with if condition\n",
    "list_comperhension = [i for i in range(10) if i % 2 == 0] # list comprehension [0, 2, 4, 6, 8]\n",
    "\n",
    "# Creating a list by list comprehension with if-else condition\n",
    "list_comperhension = [i if i % 2 == 0 else 0 for i in range(10)] # list comprehension [0, 0, 2, 0, 4, 0, 6, 0, 8, 0]"
   ]
  },
  {
   "cell_type": "code",
   "execution_count": 6,
   "metadata": {},
   "outputs": [
    {
     "name": "stdout",
     "output_type": "stream",
     "text": [
      "[58, 28, 78, 96, 43, 93, 70, 38, 73, 8]\n"
     ]
    }
   ],
   "source": [
    "# Usable example of list comprehension:\n",
    "# Create a list of 10 random numbers between 0 and 100\n",
    "import random\n",
    "random_numbers = [random.randint(0, 100) for i in range(10)] # list comprehension [0, 0, 2, 0, 4, 0, 6, 0, 8, 0]\n",
    "print(random_numbers)"
   ]
  },
  {
   "cell_type": "markdown",
   "metadata": {},
   "source": [
    "## Sets and frozensets"
   ]
  },
  {
   "cell_type": "markdown",
   "metadata": {},
   "source": [
    "### Methods of Set\n",
    "1. add() - Adds an element to the set\n",
    "2. clear() - Removes all the elements from the set\n",
    "3. copy() - Returns a copy of the set\n",
    "4. difference() - Returns a set containing the difference between two or more sets\n",
    "5. difference_update() - Removes the items in this set that are also included in another, specified set\n",
    "6. discard() - Remove the specified item\n",
    "7. intersection() - Returns a set, that is the intersection of two other sets\n",
    "8. intersection_update() - Removes the items in this set that are not present in other, specified set(s)\n",
    "9. isdisjoint() - Returns whether two sets have a intersection or not\n",
    "10. issubset() - Returns whether another set contains this set or not\n",
    "11. issuperset() - Returns whether this set contains another set or not\n",
    "12. pop() - Removes an element from the set\n",
    "13. remove() - Removes the specified element\n",
    "14. symmetric_difference() - Returns a set with the symmetric differences of two sets\n",
    "15. symmetric_difference_update() - inserts the symmetric differences from this set and another\n",
    "16. union() - Return a set containing the union of sets\n",
    "17. update() - Update the set with the union of this set and others\n",
    "\n",
    "### Methods of Frozenset\n",
    "1. copy() - Returns a copy of the set\n",
    "2. difference() - Returns a set containing the difference between two or more sets\n",
    "3. intersection() - Returns a set, that is the intersection of two other sets\n",
    "4. isdisjoint() - Returns whether two sets have a intersection or not\n",
    "5. issubset() - Returns whether another set contains this set or not\n",
    "6. issuperset() - Returns whether this set contains another set or not\n",
    "7. symmetric_difference() - Returns a set with the symmetric differences of two sets\n",
    "8. union() - Return a set containing the union of sets\n",
    "\n",
    "\n",
    "### Lists vs Sets\n",
    "Using `set` makes sense, even if you already have a list, because `set` has several advantages and features that can be useful in specific scenarios:\n",
    "1. **Uniqueness of Elements:** `set` guarantees that its elements are unique, meaning there are no repeating values. This can be useful when you need to store only unique elements from a list and automatically eliminate duplicates.\n",
    "2. **Element Lookup:** Searching for elements in a set is much faster than in lists. This is because `set` uses hashing to store elements, which ensures constant-time performance for operations like addition, removal, and lookup.\n",
    "3. **Mathematical Operations:** `set` supports mathematical operations such as union, intersection, and set difference. This can be helpful when solving tasks related to sets.\n",
    "4. **Immutable Nature:** Unlike lists, `set` does not support element indexing and does not preserve the order of elements. This can be useful in situations where you don't depend on the order of elements and want to ensure uniqueness.\n",
    "5. **Duplicate Removal:** If you already have a list with duplicates, you can easily remove them by converting the list to a `set` and then back to a `list`. \n",
    "\n",
    "For example:\n",
    "   my_list = [1, 2, 2, 3, 4, 4, 5]\n",
    "   unique_list = list(set(my_list))\n",
    "   print(unique_list) # [1, 2, 3, 4, 5]\n",
    "\n",
    "In summary, using `set` makes sense when you need to work with unique elements and perform set-specific operations. However, if the order of elements is important, and uniqueness is not a requirement, then a `list` may be a more suitable choice.\n"
   ]
  },
  {
   "cell_type": "markdown",
   "metadata": {},
   "source": [
    "### Sets:\n",
    "- `set` is a mutable data type.\n",
    "- A set contains only unique elements without repetitions.\n",
    "- The elements in a set do not have a specific order.\n",
    "- You can create a set using curly braces `{}` or with the `set()` constructor.\n",
    "- You can perform set operations like union, intersection, and difference using methods.\n",
    "- A set can be modified by adding or removing elements.\n",
    "- Example of creating a set:\n",
    "\n",
    "my_set = {1, 2, 3}"
   ]
  },
  {
   "cell_type": "code",
   "execution_count": null,
   "metadata": {},
   "outputs": [],
   "source": [
    "# Set example:\n",
    "set = {1, 2, 3} # set of numbers\n",
    "set.add(4) # add to set {1, 2, 3, 4} "
   ]
  },
  {
   "cell_type": "code",
   "execution_count": null,
   "metadata": {},
   "outputs": [],
   "source": [
    "my_list = [1, 2, 2, 3, 4, 4, 5]\n",
    "unique_list = string_list(set(my_list))\n",
    "print(unique_list) # [1, 2, 3, 4, 5]"
   ]
  },
  {
   "cell_type": "markdown",
   "metadata": {},
   "source": [
    "### Frozenset:\n",
    "- `frozenset` is an immutable data type.\n",
    "- It is similar to a set but cannot be modified after creation. This means you cannot add, remove, or change elements in a frozenset.\n",
    "- Frozenset is useful when you need to create an immutable set.\n",
    "- You can create a frozenset using the `frozenset()` constructor.\n",
    "\n",
    "my_set = {1, 2, 3}\n",
    "my_frozenset = frozenset(my_set)"
   ]
  },
  {
   "cell_type": "code",
   "execution_count": 7,
   "metadata": {},
   "outputs": [
    {
     "name": "stdout",
     "output_type": "stream",
     "text": [
      "frozenset({1, 2, 3})\n"
     ]
    }
   ],
   "source": [
    "# frozenset example:\n",
    "my_set = {1, 2, 3}\n",
    "my_frozenset = frozenset(my_set) # frozenset({1, 2, 3}) and then you can't change it"
   ]
  },
  {
   "cell_type": "markdown",
   "metadata": {},
   "source": [
    "## Working with sequences (range, enumerate, zip)"
   ]
  },
  {
   "cell_type": "markdown",
   "metadata": {},
   "source": [
    "### Range\n",
    "- `range` is a function that generates a sequence of numbers within a specified range.\n",
    "- It allows you to create integer sequences that can be used in `for` loops to iterate a specific number of times."
   ]
  },
  {
   "cell_type": "code",
   "execution_count": null,
   "metadata": {},
   "outputs": [],
   "source": [
    "# Example of using `range`:\n",
    "for i in range(5):\n",
    "    print(i) # 0 1 2 3 4"
   ]
  },
  {
   "cell_type": "markdown",
   "metadata": {},
   "source": [
    "### Enumerate\n",
    "- `enumerate` is a function that allows you to iterate through a sequence along with the indices of elements.\n",
    "- It returns tuples containing the index and the value of each element."
   ]
  },
  {
   "cell_type": "code",
   "execution_count": null,
   "metadata": {},
   "outputs": [],
   "source": [
    "# Example of using `range` with start and stop:\n",
    "fruits = [\"apple\", \"banana\", \"cherry\"]\n",
    "for index, fruit in enumerate(fruits):\n",
    "    print(f\"Index {index}: {fruit}\") # Index 0: apple Index 1: banana Index 2: cherry"
   ]
  },
  {
   "cell_type": "markdown",
   "metadata": {},
   "source": [
    "### zip\n",
    "- `zip` is a function that combines elements from multiple sequences into tuples.\n",
    "- It allows you to merge corresponding elements from different sequences into single tuples."
   ]
  },
  {
   "cell_type": "code",
   "execution_count": null,
   "metadata": {},
   "outputs": [],
   "source": [
    "# Example of using `zip`:\n",
    "names = [\"Alice\", \"Bob\", \"Charlie\"]\n",
    "scores = [85, 92, 78]\n",
    "for name, score in zip(names, scores):\n",
    "    print(f\"{name}: {score}\")"
   ]
  },
  {
   "cell_type": "markdown",
   "metadata": {},
   "source": [
    "### Tasks\n",
    "**Practical Assignments:**\n",
    "1. Create a Python program that takes user input to build a list of numbers. Then, write a function to find and print the maximum and minimum values in the list. Additionally, calculate and print the average of all the numbers in the list.\n",
    "2. Implement a Python dictionary to create a simple address book. Users can add, remove, or search for contact information using their names. Write functions for each of these operations.\n",
    "3. Write a Python program that takes a list of words as input and generates a new list containing only the unique words (eliminating duplicates). Use sets to help you achieve this. Then, count and print the number of occurrences of each unique word in the original list."
   ]
  },
  {
   "cell_type": "code",
   "execution_count": 8,
   "metadata": {},
   "outputs": [
    {
     "name": "stdout",
     "output_type": "stream",
     "text": [
      "Max num of list: 1000\n",
      "Min num of list: 100\n",
      "Average num of list: 550.0\n"
     ]
    }
   ],
   "source": [
    "# 1\n",
    "def get_max(value):\n",
    "    list_maximum = max(value)\n",
    "    return list_maximum\n",
    "\n",
    "def get_min(value):\n",
    "    list_minimum = min(value)\n",
    "    return list_minimum\n",
    "\n",
    "def get_average(value):\n",
    "    list_average = sum(value) / len(value)\n",
    "    return list_average\n",
    "\n",
    "a = int(input(\"Enter first num for list: \"))\n",
    "b = int(input(\"Enter last num for list: \"))\n",
    "\n",
    "string_list = [i for i in range(a, b + 1)]\n",
    "print(f'Max num of list: {get_max(string_list)}')\n",
    "print(f'Min num of list: {get_min(string_list)}')\n",
    "print(f'Average num of list: {get_average(string_list)}')\n",
    "\n"
   ]
  },
  {
   "cell_type": "code",
   "execution_count": null,
   "metadata": {},
   "outputs": [],
   "source": [
    "# 2\n",
    "def show_book(address_book):\n",
    "    if not address_book:\n",
    "        print(\"\\n Адресная книга пуста.\")\n",
    "    else:\n",
    "        print(f'\\n Address book: {address_book}')\n",
    "\n",
    "def add_user(address_book):\n",
    "    name = input(\"Enter the name of the new user: \")\n",
    "    surname = input(\"Enter the user's surname: \")\n",
    "    age = int(input(\"Enter the user's age: \"))\n",
    "    address_book[name] = {\"Surname\": surname, \"Age\": age}\n",
    "\n",
    "def remove_user(address_book, name):\n",
    "    print(address_book)\n",
    "    if name in address_book:\n",
    "        del address_book[name]\n",
    "        print(f\"{name} удален из адресной книги.\")\n",
    "    else:\n",
    "        print(f\"{name} не найден в адресной книге.\")\n",
    "\n",
    "def find_user(address_book, name):\n",
    "    if name in address_book:\n",
    "        user_info = address_book[name]\n",
    "        print(f\"Имя: {name}, Фамилия: {user_info['Фамилия']}, Возраст: {user_info['Возраст']}\")\n",
    "    else:\n",
    "        print(f\"{name} не найден в адресной книге.\")\n",
    "\n",
    "address_book = {}\n",
    "\n",
    "while True:\n",
    "    print(\"\\nОпции:\")\n",
    "    print(\"0. Вывести адресную книгу\")\n",
    "    print(\"1. Добавить пользователя\")\n",
    "    print(\"2. Удалить пользователя\")\n",
    "    print(\"3. Найти пользователя\")\n",
    "    print(\"4. Выход\")\n",
    "    \n",
    "    choice = input(\"Введите ваш выбор: \")\n",
    "    \n",
    "    if choice == '0':\n",
    "        show_book(address_book)\n",
    "    elif choice == '1':\n",
    "        add_user(address_book)\n",
    "    elif choice == '2':\n",
    "        name_to_remove = input(\"Введите имя для удаления: \")\n",
    "        remove_user(address_book, name_to_remove)\n",
    "    elif choice == '3':\n",
    "        name_to_find = input(\"Введите имя для поиска: \")\n",
    "        find_user(address_book, name_to_find)\n",
    "    elif choice == '4':\n",
    "        break\n",
    "    else:\n",
    "        print(\"Неверная опция. Пожалуйста, выберите действительную опцию.\")\n"
   ]
  },
  {
   "cell_type": "code",
   "execution_count": null,
   "metadata": {},
   "outputs": [],
   "source": [
    "# 3\n",
    "\n",
    "def show_string(word_list):\n",
    "    print(word_list)\n",
    "    amount_of_all = len(word_list)\n",
    "    print(f'Amount of all words: {amount_of_all}')\n",
    "\n",
    "\n",
    "def show_unique(word_list):\n",
    "    unique_list = list(set(word_list))  # Convert the set to a list\n",
    "    print(unique_list)\n",
    "    amount_of_unique = len(unique_list) \n",
    "    print(f'Amount of unique words: {amount_of_unique}')\n",
    "\n",
    "\n",
    "string_value = input(\"Input some words: \")\n",
    "string = string_value.lower()\n",
    "split_list = string.split()\n",
    "\n",
    "show_string(split_list)\n",
    "show_unique(split_list)"
   ]
  }
 ],
 "metadata": {
  "kernelspec": {
   "display_name": "Python 3",
   "language": "python",
   "name": "python3"
  },
  "language_info": {
   "codemirror_mode": {
    "name": "ipython",
    "version": 3
   },
   "file_extension": ".py",
   "mimetype": "text/x-python",
   "name": "python",
   "nbconvert_exporter": "python",
   "pygments_lexer": "ipython3",
   "version": "3.10.12"
  }
 },
 "nbformat": 4,
 "nbformat_minor": 2
}
